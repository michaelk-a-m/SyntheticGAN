{
 "cells": [
  {
   "cell_type": "markdown",
   "metadata": {},
   "source": [
    "# Load Library"
   ]
  },
  {
   "cell_type": "code",
   "execution_count": null,
   "metadata": {
    "colab": {},
    "colab_type": "code",
    "id": "Es0HzH7yeniL"
   },
   "outputs": [],
   "source": [
    "from numpy import hstack\n",
    "from numpy import zeros\n",
    "from numpy import ones\n",
    "import numpy as np\n",
    "import phik\n",
    "import datetime, os\n",
    "import seaborn as sns\n",
    "from phik import report\n",
    "from numpy.random import rand\n",
    "from numpy.random import randn\n",
    "from numpy.random import random\n",
    "from keras.models import Sequential\n",
    "from keras.layers import Dense\n",
    "from keras.layers import BatchNormalization\n",
    "from keras.models import load_model\n",
    "from matplotlib import pyplot\n",
    "from tensorboard import notebook\n",
    "from sklearn.metrics.pairwise import euclidean_distances \n",
    "from sklearn.preprocessing import normalize\n",
    "from sklearn import preprocessing\n",
    "%matplotlib inline\n",
    "from xgboost import XGBClassifier\n",
    "from sklearn.model_selection import train_test_split\n",
    "from sklearn.metrics import accuracy_score\n",
    "import pandas as pd"
   ]
  },
  {
   "cell_type": "code",
   "execution_count": 51,
   "metadata": {},
   "outputs": [],
   "source": [
    "%reload_ext tensorboard"
   ]
  },
  {
   "cell_type": "code",
   "execution_count": 1,
   "metadata": {},
   "outputs": [
    {
     "name": "stderr",
     "output_type": "stream",
     "text": [
      "WARNING: You are using pip version 19.2.1, however version 19.2.2 is available.\n",
      "You should consider upgrading via the 'python -m pip install --upgrade pip' command.\n"
     ]
    }
   ],
   "source": [
    "#!pip install -q tf-nightly-2.0-preview"
   ]
  },
  {
   "cell_type": "markdown",
   "metadata": {},
   "source": [
    "# Load Dataset"
   ]
  },
  {
   "cell_type": "code",
   "execution_count": 2,
   "metadata": {},
   "outputs": [],
   "source": [
    "### Diabetes dataset\n",
    "df_raw = pd.read_csv('diabetes.csv', header=0)\n",
    "col_dtype = df_raw.dtypes.to_dict()\n",
    "colnames = df_raw.columns\n",
    "features = colnames\n",
    "cat_features = ['Outcome']\n",
    "num_features = list(set(features) - set(cat_features))"
   ]
  },
  {
   "cell_type": "code",
   "execution_count": 3,
   "metadata": {},
   "outputs": [],
   "source": [
    "def cast_datatype(df, col_dtype):\n",
    "    for col in df.columns:\n",
    "        if col_dtype[col] == np.int64:\n",
    "            df[col] = np.round(df[col]).astype(col_dtype[col])\n",
    "    return df"
   ]
  },
  {
   "cell_type": "code",
   "execution_count": 4,
   "metadata": {
    "colab": {
     "base_uri": "https://localhost:8080/",
     "height": 34
    },
    "colab_type": "code",
    "id": "wZYDKvvh4YLz",
    "outputId": "66df91bc-d319-49a9-c9c6-4cf270d7c679"
   },
   "outputs": [],
   "source": [
    "df = df_raw[features]\n",
    "#df.loc[:,num_features] = (df_raw[num_features] - df_raw[num_features].mean()) / (df_raw[num_features].std())\n",
    "df.loc[:,num_features] = (df_raw[num_features] - df_raw[num_features].mean()) / (df_raw[num_features].max() - df_raw[num_features].min())\n",
    "#df.loc[:,num_features] = (df_raw[num_features] - df_raw[num_features].mean()) / (df_raw[num_features].std())"
   ]
  },
  {
   "cell_type": "code",
   "execution_count": 84,
   "metadata": {},
   "outputs": [
    {
     "data": {
      "text/html": [
       "<div>\n",
       "<style scoped>\n",
       "    .dataframe tbody tr th:only-of-type {\n",
       "        vertical-align: middle;\n",
       "    }\n",
       "\n",
       "    .dataframe tbody tr th {\n",
       "        vertical-align: top;\n",
       "    }\n",
       "\n",
       "    .dataframe thead th {\n",
       "        text-align: right;\n",
       "    }\n",
       "</style>\n",
       "<table border=\"1\" class=\"dataframe\">\n",
       "  <thead>\n",
       "    <tr style=\"text-align: right;\">\n",
       "      <th></th>\n",
       "      <th>Pregnancies</th>\n",
       "      <th>Glucose</th>\n",
       "      <th>BloodPressure</th>\n",
       "      <th>SkinThickness</th>\n",
       "      <th>Insulin</th>\n",
       "      <th>BMI</th>\n",
       "      <th>DiabetesPedigreeFunction</th>\n",
       "      <th>Age</th>\n",
       "      <th>Outcome</th>\n",
       "    </tr>\n",
       "  </thead>\n",
       "  <tbody>\n",
       "    <tr>\n",
       "      <th>0</th>\n",
       "      <td>0.126762</td>\n",
       "      <td>0.136208</td>\n",
       "      <td>0.023726</td>\n",
       "      <td>0.146096</td>\n",
       "      <td>-0.094326</td>\n",
       "      <td>0.023956</td>\n",
       "      <td>0.066236</td>\n",
       "      <td>0.279319</td>\n",
       "      <td>0.906201</td>\n",
       "    </tr>\n",
       "    <tr>\n",
       "      <th>1</th>\n",
       "      <td>-0.167356</td>\n",
       "      <td>-0.180375</td>\n",
       "      <td>-0.025455</td>\n",
       "      <td>0.085490</td>\n",
       "      <td>-0.094326</td>\n",
       "      <td>-0.080366</td>\n",
       "      <td>-0.051612</td>\n",
       "      <td>-0.037348</td>\n",
       "      <td>0.333190</td>\n",
       "    </tr>\n",
       "    <tr>\n",
       "      <th>2</th>\n",
       "      <td>0.244409</td>\n",
       "      <td>0.312088</td>\n",
       "      <td>-0.041848</td>\n",
       "      <td>-0.207439</td>\n",
       "      <td>-0.094326</td>\n",
       "      <td>-0.129547</td>\n",
       "      <td>0.085450</td>\n",
       "      <td>-0.020681</td>\n",
       "      <td>0.846798</td>\n",
       "    </tr>\n",
       "    <tr>\n",
       "      <th>3</th>\n",
       "      <td>-0.167356</td>\n",
       "      <td>-0.160274</td>\n",
       "      <td>-0.025455</td>\n",
       "      <td>0.024884</td>\n",
       "      <td>0.016785</td>\n",
       "      <td>-0.058012</td>\n",
       "      <td>-0.130178</td>\n",
       "      <td>-0.204015</td>\n",
       "      <td>0.280453</td>\n",
       "    </tr>\n",
       "    <tr>\n",
       "      <th>4</th>\n",
       "      <td>-0.226180</td>\n",
       "      <td>0.080932</td>\n",
       "      <td>-0.238569</td>\n",
       "      <td>0.146096</td>\n",
       "      <td>0.104256</td>\n",
       "      <td>0.165535</td>\n",
       "      <td>0.775458</td>\n",
       "      <td>-0.004015</td>\n",
       "      <td>0.844569</td>\n",
       "    </tr>\n",
       "  </tbody>\n",
       "</table>\n",
       "</div>"
      ],
      "text/plain": [
       "   Pregnancies   Glucose  BloodPressure  SkinThickness   Insulin       BMI  \\\n",
       "0     0.126762  0.136208       0.023726       0.146096 -0.094326  0.023956   \n",
       "1    -0.167356 -0.180375      -0.025455       0.085490 -0.094326 -0.080366   \n",
       "2     0.244409  0.312088      -0.041848      -0.207439 -0.094326 -0.129547   \n",
       "3    -0.167356 -0.160274      -0.025455       0.024884  0.016785 -0.058012   \n",
       "4    -0.226180  0.080932      -0.238569       0.146096  0.104256  0.165535   \n",
       "\n",
       "   DiabetesPedigreeFunction       Age   Outcome  \n",
       "0                  0.066236  0.279319  0.906201  \n",
       "1                 -0.051612 -0.037348  0.333190  \n",
       "2                  0.085450 -0.020681  0.846798  \n",
       "3                 -0.130178 -0.204015  0.280453  \n",
       "4                  0.775458 -0.004015  0.844569  "
      ]
     },
     "execution_count": 84,
     "metadata": {},
     "output_type": "execute_result"
    }
   ],
   "source": [
    "df.head(5)"
   ]
  },
  {
   "cell_type": "code",
   "execution_count": 5,
   "metadata": {
    "colab": {},
    "colab_type": "code",
    "id": "dBBS3OEreniT"
   },
   "outputs": [],
   "source": [
    "def categorical_mapping(data,feature):\n",
    "    \n",
    "    featureMap=dict()\n",
    "    freq_dist = data[feature].value_counts(normalize=True, sort=True).cumsum()\n",
    "    unique_vals = freq_dist.index.tolist()\n",
    "   \n",
    "    idx = 0\n",
    "    for i in unique_vals:\n",
    "      if idx == 0:\n",
    "        featureMap[i] = (freq_dist[idx]/2 , freq_dist[idx]/6, 0, freq_dist[idx]) #np.random.normal(freq_dist[idx], (freq_dist[idx]-0)/6)\n",
    "      else:\n",
    "        featureMap[i] = ((freq_dist[idx]+freq_dist[idx-1])/2, (freq_dist[idx]-freq_dist[idx-1])/6, freq_dist[idx-1], freq_dist[idx])\n",
    "      idx += 1\n",
    "    return featureMap"
   ]
  },
  {
   "cell_type": "code",
   "execution_count": 6,
   "metadata": {
    "colab": {
     "base_uri": "https://localhost:8080/",
     "height": 34
    },
    "colab_type": "code",
    "id": "8vtAyjPJeniQ",
    "outputId": "1b66ff1e-e471-4757-87cb-b5c8e478a0e7"
   },
   "outputs": [],
   "source": [
    "catFeatureMap = dict()\n",
    "\n",
    "for col in cat_features:\n",
    "  catFeatureMap[col] = categorical_mapping(df, col)\n",
    "  df.loc[:,col] = df[col].map(catFeatureMap[col])\n",
    "  df.loc[:,col] = df[col].apply(lambda x: np.random.normal(x[0], x[1]))\n"
   ]
  },
  {
   "cell_type": "code",
   "execution_count": 85,
   "metadata": {
    "colab": {},
    "colab_type": "code",
    "id": "IqOqS_Usn1Lb"
   },
   "outputs": [],
   "source": [
    "#dataset = df_norm.values\n",
    "dataset = df.values"
   ]
  },
  {
   "cell_type": "code",
   "execution_count": 8,
   "metadata": {
    "colab": {
     "base_uri": "https://localhost:8080/",
     "height": 134
    },
    "colab_type": "code",
    "id": "m2FJZ4Y2cIYt",
    "outputId": "f2cddfee-4cdc-476c-e970-a53e0b7522f5"
   },
   "outputs": [
    {
     "data": {
      "text/plain": [
       "array([[ 1.26761642e-01,  1.36208386e-01,  2.37256660e-02, ...,\n",
       "         6.62355670e-02,  2.79318576e-01,  9.06200668e-01],\n",
       "       [-1.67356005e-01, -1.80374529e-01, -2.54546619e-02, ...,\n",
       "        -5.16124262e-02, -3.73480903e-02,  3.33190477e-01],\n",
       "       [ 2.44408701e-01,  3.12087783e-01, -4.18481045e-02, ...,\n",
       "         8.54499137e-02, -2.06814236e-02,  8.46797563e-01],\n",
       "       ...,\n",
       "       [ 6.79381127e-02,  5.29993719e-04,  2.37256660e-02, ...,\n",
       "        -9.68728873e-02, -5.40147569e-02,  5.33710619e-01],\n",
       "       [-1.67356005e-01,  2.56556219e-02, -7.46349898e-02, ...,\n",
       "        -5.24663971e-02,  2.29318576e-01,  8.27217679e-01],\n",
       "       [-1.67356005e-01, -1.40173524e-01,  7.33222336e-03, ...,\n",
       "        -6.69839035e-02, -1.70681424e-01,  2.00396288e-01]])"
      ]
     },
     "execution_count": 8,
     "metadata": {},
     "output_type": "execute_result"
    }
   ],
   "source": [
    "dataset"
   ]
  },
  {
   "cell_type": "code",
   "execution_count": 9,
   "metadata": {
    "colab": {},
    "colab_type": "code",
    "id": "KWMZjzEmenia"
   },
   "outputs": [],
   "source": [
    "\n",
    "# define the standalone discriminator model\n",
    "def define_discriminator(n_inputs=2):\n",
    "    model = Sequential()\n",
    "    model.add(Dense(256, activation='relu', kernel_initializer='he_uniform', input_dim=n_inputs))\n",
    "    model.add(Dense(128, activation='relu', kernel_initializer='he_uniform', input_dim=n_inputs))\n",
    "    #model.add(BatchNormalization())\n",
    "    model.add(Dense(1, activation='sigmoid'))\n",
    "    # compile model\n",
    "    model.compile(loss='binary_crossentropy', optimizer='adam', metrics=['accuracy'])\n",
    "    return model\n",
    "\n",
    "# define the standalone generator model\n",
    "def define_generator(latent_dim, n_outputs=2):\n",
    "    model = Sequential()\n",
    "    model.add(Dense(128, activation='relu', kernel_initializer='he_uniform', input_dim=latent_dim))\n",
    "    model.add(Dense(256, activation='relu', kernel_initializer='he_uniform', input_dim=latent_dim))\n",
    "    model.add(Dense(n_outputs, activation='linear'))\n",
    "    return model\n",
    "\n",
    "# define the combined generator and discriminator model, for updating the generator\n",
    "def define_gan(generator, discriminator):\n",
    "    # make weights in the discriminator not trainable\n",
    "    discriminator.trainable = False\n",
    "    # connect them\n",
    "    model = Sequential()\n",
    "    # add generator\n",
    "    model.add(generator)\n",
    "    # add the discriminator\n",
    "    model.add(discriminator)\n",
    "    # compile model\n",
    "    model.compile(loss='binary_crossentropy', optimizer='adam')\n",
    "    return model\n",
    "\n",
    "# generate n real samples with class labels\n",
    "def generate_real_samples(n):    \n",
    "    # generate inputs in [-0.5, 0.5]\n",
    "    X_train = dataset\n",
    "    data_batch =X_train[np.random.randint(low=0,high=X_train.shape[0],size=n)]\n",
    "    # generate class labels\n",
    "    y = ones((n, 1))\n",
    "    return data_batch, y\n",
    "\n",
    "# generate points in latent space as input for the generator\n",
    "def generate_latent_points(latent_dim, n):\n",
    "    # generate points in the latent space\n",
    "    x_input = randn(latent_dim * n)\n",
    "    # reshape into a batch of inputs for the network\n",
    "    x_input = x_input.reshape(n, latent_dim)\n",
    "    return x_input\n",
    "\n",
    "# use the generator to generate n fake examples, with class labels\n",
    "def generate_fake_samples(generator, latent_dim, n):\n",
    "    # generate points in latent space\n",
    "    x_input = generate_latent_points(latent_dim, n)\n",
    "    # predict outputs\n",
    "    X = generator.predict(x_input)\n",
    "    # create class labels\n",
    "    y = zeros((n, 1))\n",
    "    return X, y\n",
    "\n",
    "# evaluate the discriminator and plot real and fake points\n",
    "def summarize_performance(epoch, generator, discriminator, latent_dim, n=100):\n",
    "    # prepare real samples\n",
    "    x_real, y_real = generate_real_samples(n)\n",
    "    # evaluate discriminator on real examples\n",
    "    _, acc_real = discriminator.evaluate(x_real, y_real, verbose=0)\n",
    "    # prepare fake examples\n",
    "    x_fake, y_fake = generate_fake_samples(generator, latent_dim, n)\n",
    "    # evaluate discriminator on fake examples\n",
    "    _, acc_fake = discriminator.evaluate(x_fake, y_fake, verbose=0)\n",
    "    # summarize discriminator performance\n",
    "    print(epoch, acc_real, acc_fake)\n",
    "    \n",
    "\n",
    "def generate_fake_table(generator, discriminator, latent_dim, n=100):\n",
    "    # prepare fake examples\n",
    "    x_fake, y_fake = generate_fake_samples(generator, latent_dim, n)\n",
    "    return x_fake\n",
    "\n",
    "def plot_loss(loss_real_, loss_fake_, loss_gan_):\n",
    "    pyplot.plot(loss_real_, label='loss disc real')\n",
    "    pyplot.plot(loss_fake_, label='loss disc fake')\n",
    "    pyplot.plot(loss_gan_, label='loss gan')\n",
    "    pyplot.legend()\n",
    "    pyplot.savefig('plot_loss.png')\n",
    "    pyplot.close()\n",
    "    \n",
    "\n",
    "def plot_acc(acc_real_, acc_fake_):\n",
    "    pyplot.plot(acc_real_, label='acc real')\n",
    "    pyplot.plot(acc_fake_, label='acc fake')\n",
    "    pyplot.legend()\n",
    "    pyplot.savefig('plot_accuracy.png')\n",
    "    pyplot.close()\n",
    "    \n",
    "\n",
    "def label_noise(y, prob):\n",
    "    n_noise = int(prob * y.shape[0])\n",
    "    noise_indices = [np.random.randint(0, y.shape[0]) for i in np.arange(0, n_noise)]\n",
    "    y[noise_indices] = 1 - y[noise_indices]\n",
    "    return y\n",
    "    \n",
    "def label_smoothing(y, y_class):\n",
    "    if y_class == 'real':\n",
    "        return y - 0.1 + (random(y.shape) * 0.5)\n",
    "    else:\n",
    "        return y + (random(y.shape) * 0.1)\n",
    "    \n",
    "    \n",
    "# train the generator and discriminator\n",
    "def train(g_model, d_model, gan_model, latent_dim, n_epochs=10000, n_batch=128, n_eval=2000):\n",
    "    acc_real_ = []\n",
    "    acc_fake_ = []\n",
    "    loss_real_ = []\n",
    "    loss_fake_ = []\n",
    "    loss_gan_ = []\n",
    "    \n",
    "    # determine half the size of one batch, for updating the discriminator\n",
    "    half_batch = int(n_batch / 2)\n",
    "    # manually enumerate epochs\n",
    "    for i in range(n_epochs):\n",
    "        # prepare real samples\n",
    "        x_real, y_real = generate_real_samples(half_batch)\n",
    "        y_real = label_noise(y_real, 0.1)\n",
    "        #y_real = label_smoothing(y_real, 'real')\n",
    "        # prepare fake examples\n",
    "        x_fake, y_fake = generate_fake_samples(g_model, latent_dim, half_batch)\n",
    "        #y_fake = label_smoothing(y_fake, 'fake')\n",
    "        # update discriminator\n",
    "        loss_real_i, acc_real_i = d_model.train_on_batch(x_real, y_real)\n",
    "        loss_fake_i, acc_fake_i = d_model.train_on_batch(x_fake, y_fake)\n",
    "        # prepare points in latent space as input for the generator\n",
    "        x_gan = generate_latent_points(latent_dim, n_batch)\n",
    "        # create inverted labels for the fake samples\n",
    "        y_gan = ones((n_batch, 1))\n",
    "        # update the generator via the discriminator's error\n",
    "        loss_gan_i = gan_model.train_on_batch(x_gan, y_gan)\n",
    "        acc_real_.append(acc_real_i)\n",
    "        loss_real_.append(loss_real_i)\n",
    "        acc_fake_.append(acc_fake_i)\n",
    "        loss_fake_.append(loss_fake_i)\n",
    "        loss_gan_.append(loss_gan_i)\n",
    "        # evaluate the model every n_eval epochs\n",
    "        if (i+1) % n_eval == 0:\n",
    "            summarize_performance(i, g_model, d_model, latent_dim)\n",
    "    plot_loss(loss_real_, loss_fake_, loss_gan_)\n",
    "    plot_acc(acc_real_, acc_fake_)\n",
    "    \n",
    "    return acc_real_, acc_fake_\n"
   ]
  },
  {
   "cell_type": "code",
   "execution_count": 86,
   "metadata": {
    "colab": {
     "base_uri": "https://localhost:8080/",
     "height": 1000
    },
    "colab_type": "code",
    "id": "U7Kxdqtwenie",
    "outputId": "f97fec0d-ec43-4750-d1e3-9daed8b53325"
   },
   "outputs": [
    {
     "name": "stderr",
     "output_type": "stream",
     "text": [
      "C:\\ProgramData\\Anaconda3\\lib\\site-packages\\keras\\engine\\training.py:490: UserWarning: Discrepancy between trainable weights and collected trainable weights, did you set `model.trainable` without calling `model.compile` after ?\n",
      "  'Discrepancy between trainable weights and collected trainable'\n"
     ]
    },
    {
     "name": "stdout",
     "output_type": "stream",
     "text": [
      "1999 0.77 0.98\n",
      "3999 0.55 0.92\n",
      "5999 0.68 0.64\n",
      "7999 0.74 0.88\n",
      "9999 0.66 0.82\n"
     ]
    }
   ],
   "source": [
    "# size of the latent space\n",
    "latent_dim = 100\n",
    "# create the discriminator\n",
    "discriminator = define_discriminator(dataset.shape[1])\n",
    "# create the generator\n",
    "generator = define_generator(latent_dim, dataset.shape[1])\n",
    "# create the gan\n",
    "gan_model = define_gan(generator, discriminator)\n",
    "# train model\n",
    "\n",
    "#100k epoch\n",
    "#acc_real_, acc_fake_ = train(generator, discriminator, gan_model, latent_dim, n_epochs= 100000, n_batch=64)\n",
    "#10k epoch\n",
    "acc_real_, acc_fake_ = train(generator, discriminator, gan_model, latent_dim, n_epochs= 10000, n_batch=64)"
   ]
  },
  {
   "cell_type": "code",
   "execution_count": 87,
   "metadata": {},
   "outputs": [],
   "source": [
    "gan_model.save('gan_model_diabetes10k.h5')\n",
    "#gan_model = load_model('gan_model.h5')"
   ]
  },
  {
   "cell_type": "code",
   "execution_count": null,
   "metadata": {},
   "outputs": [],
   "source": [
    "%tensorboard --logdir logs"
   ]
  },
  {
   "cell_type": "code",
   "execution_count": 88,
   "metadata": {
    "colab": {
     "base_uri": "https://localhost:8080/",
     "height": 370
    },
    "colab_type": "code",
    "id": "zUVn1z1Denij",
    "outputId": "877f7df0-4eeb-49c9-8f65-d901f9edf748"
   },
   "outputs": [],
   "source": [
    "fake_data = generate_fake_table(generator, discriminator, latent_dim, df.shape[0])"
   ]
  },
  {
   "cell_type": "code",
   "execution_count": 89,
   "metadata": {},
   "outputs": [],
   "source": [
    "df_fake_norm = pd.DataFrame(fake_data, columns = features)"
   ]
  },
  {
   "cell_type": "code",
   "execution_count": 14,
   "metadata": {},
   "outputs": [],
   "source": [
    "#df_fake_norm.to_csv('diabetes_fake_norm_10k_2.csv', header=True, index=False)\n",
    "df_fake_norm = pd.read_csv('diabetes_fake_norm_10k_2.csv', header=0)\n",
    "#df_fake_norm = pd.read_csv('diabetes_fake_norm.csv', header=0)"
   ]
  },
  {
   "cell_type": "code",
   "execution_count": null,
   "metadata": {
    "colab": {},
    "colab_type": "code",
    "id": "VprVlnAgzp2V"
   },
   "outputs": [],
   "source": [
    "df_fake = pd.DataFrame(fake_data, columns = features)"
   ]
  },
  {
   "cell_type": "code",
   "execution_count": 38,
   "metadata": {},
   "outputs": [
    {
     "data": {
      "text/html": [
       "<div>\n",
       "<style scoped>\n",
       "    .dataframe tbody tr th:only-of-type {\n",
       "        vertical-align: middle;\n",
       "    }\n",
       "\n",
       "    .dataframe tbody tr th {\n",
       "        vertical-align: top;\n",
       "    }\n",
       "\n",
       "    .dataframe thead th {\n",
       "        text-align: right;\n",
       "    }\n",
       "</style>\n",
       "<table border=\"1\" class=\"dataframe\">\n",
       "  <thead>\n",
       "    <tr style=\"text-align: right;\">\n",
       "      <th></th>\n",
       "      <th>Pregnancies</th>\n",
       "      <th>Glucose</th>\n",
       "      <th>BloodPressure</th>\n",
       "      <th>SkinThickness</th>\n",
       "      <th>Insulin</th>\n",
       "      <th>BMI</th>\n",
       "      <th>DiabetesPedigreeFunction</th>\n",
       "      <th>Age</th>\n",
       "      <th>Outcome</th>\n",
       "    </tr>\n",
       "  </thead>\n",
       "  <tbody>\n",
       "    <tr>\n",
       "      <th>0</th>\n",
       "      <td>-0.171197</td>\n",
       "      <td>-0.082568</td>\n",
       "      <td>0.123954</td>\n",
       "      <td>-0.222587</td>\n",
       "      <td>-0.100557</td>\n",
       "      <td>-0.119958</td>\n",
       "      <td>-0.042514</td>\n",
       "      <td>0.069927</td>\n",
       "      <td>0.268382</td>\n",
       "    </tr>\n",
       "    <tr>\n",
       "      <th>1</th>\n",
       "      <td>0.047059</td>\n",
       "      <td>-0.168011</td>\n",
       "      <td>0.026570</td>\n",
       "      <td>0.152191</td>\n",
       "      <td>0.028195</td>\n",
       "      <td>0.030951</td>\n",
       "      <td>0.041880</td>\n",
       "      <td>-0.143623</td>\n",
       "      <td>0.391022</td>\n",
       "    </tr>\n",
       "    <tr>\n",
       "      <th>2</th>\n",
       "      <td>-0.101789</td>\n",
       "      <td>-0.112389</td>\n",
       "      <td>-0.043647</td>\n",
       "      <td>0.037842</td>\n",
       "      <td>0.012611</td>\n",
       "      <td>0.049052</td>\n",
       "      <td>-0.032369</td>\n",
       "      <td>-0.169580</td>\n",
       "      <td>0.324090</td>\n",
       "    </tr>\n",
       "    <tr>\n",
       "      <th>3</th>\n",
       "      <td>0.350813</td>\n",
       "      <td>0.037416</td>\n",
       "      <td>-0.025625</td>\n",
       "      <td>-0.202285</td>\n",
       "      <td>-0.085623</td>\n",
       "      <td>0.006897</td>\n",
       "      <td>-0.000280</td>\n",
       "      <td>0.074113</td>\n",
       "      <td>0.730214</td>\n",
       "    </tr>\n",
       "    <tr>\n",
       "      <th>4</th>\n",
       "      <td>0.022772</td>\n",
       "      <td>-0.170607</td>\n",
       "      <td>0.037580</td>\n",
       "      <td>0.144761</td>\n",
       "      <td>0.020002</td>\n",
       "      <td>0.034262</td>\n",
       "      <td>0.036726</td>\n",
       "      <td>-0.137630</td>\n",
       "      <td>0.408241</td>\n",
       "    </tr>\n",
       "  </tbody>\n",
       "</table>\n",
       "</div>"
      ],
      "text/plain": [
       "   Pregnancies   Glucose  BloodPressure  SkinThickness   Insulin       BMI  \\\n",
       "0    -0.171197 -0.082568       0.123954      -0.222587 -0.100557 -0.119958   \n",
       "1     0.047059 -0.168011       0.026570       0.152191  0.028195  0.030951   \n",
       "2    -0.101789 -0.112389      -0.043647       0.037842  0.012611  0.049052   \n",
       "3     0.350813  0.037416      -0.025625      -0.202285 -0.085623  0.006897   \n",
       "4     0.022772 -0.170607       0.037580       0.144761  0.020002  0.034262   \n",
       "\n",
       "   DiabetesPedigreeFunction       Age   Outcome  \n",
       "0                 -0.042514  0.069927  0.268382  \n",
       "1                  0.041880 -0.143623  0.391022  \n",
       "2                 -0.032369 -0.169580  0.324090  \n",
       "3                 -0.000280  0.074113  0.730214  \n",
       "4                  0.036726 -0.137630  0.408241  "
      ]
     },
     "execution_count": 38,
     "metadata": {},
     "output_type": "execute_result"
    }
   ],
   "source": [
    "df_fake_norm.head(5)"
   ]
  },
  {
   "cell_type": "code",
   "execution_count": 16,
   "metadata": {},
   "outputs": [],
   "source": [
    "df_fake = df_fake_norm"
   ]
  },
  {
   "cell_type": "code",
   "execution_count": 17,
   "metadata": {},
   "outputs": [],
   "source": [
    "#df_fake[num_features] = df_fake[num_features] * df_raw[num_features].std().values + df_raw[num_features].mean().values\n",
    "df_fake[num_features] = df_fake[num_features] * (df_raw[num_features].max().values - df_raw[num_features].min().values ) + df_raw[num_features].mean().values\n",
    "#df_norm = (df_cat - df_cat.mean()) / (df_cat.max() - df_cat.min())"
   ]
  },
  {
   "cell_type": "markdown",
   "metadata": {},
   "source": [
    "## Cast to Original Data Type"
   ]
  },
  {
   "cell_type": "code",
   "execution_count": 18,
   "metadata": {},
   "outputs": [],
   "source": [
    "df_fake = cast_datatype(df_fake, col_dtype)"
   ]
  },
  {
   "cell_type": "code",
   "execution_count": 19,
   "metadata": {},
   "outputs": [],
   "source": [
    "#df_fake_100k = df_fake.copy()\n",
    "df_fake_10k = df_fake.copy()"
   ]
  },
  {
   "cell_type": "code",
   "execution_count": 191,
   "metadata": {},
   "outputs": [
    {
     "data": {
      "text/plain": [
       "<matplotlib.axes._subplots.AxesSubplot at 0x208a6cda2e8>"
      ]
     },
     "execution_count": 191,
     "metadata": {},
     "output_type": "execute_result"
    },
    {
     "data": {
      "image/png": "[encoded data removed]",
      "text/plain": [
       "<Figure size 432x288 with 1 Axes>"
      ]
     },
     "metadata": {
      "needs_background": "light"
     },
     "output_type": "display_data"
    }
   ],
   "source": [
    "df_fake['BMI'].hist()"
   ]
  },
  {
   "cell_type": "code",
   "execution_count": 192,
   "metadata": {},
   "outputs": [
    {
     "data": {
      "text/plain": [
       "<matplotlib.axes._subplots.AxesSubplot at 0x208a6f3b828>"
      ]
     },
     "execution_count": 192,
     "metadata": {},
     "output_type": "execute_result"
    },
    {
     "data": {
      "image/png": "[encoded data removed]",
      "text/plain": [
       "<Figure size 432x288 with 1 Axes>"
      ]
     },
     "metadata": {
      "needs_background": "light"
     },
     "output_type": "display_data"
    }
   ],
   "source": [
    "df_raw['BMI'].hist()"
   ]
  },
  {
   "cell_type": "code",
   "execution_count": 193,
   "metadata": {},
   "outputs": [
    {
     "data": {
      "text/plain": [
       "<matplotlib.axes._subplots.AxesSubplot at 0x208a6cd1f60>"
      ]
     },
     "execution_count": 193,
     "metadata": {},
     "output_type": "execute_result"
    },
    {
     "data": {
      "image/png": "[encoded data removed]",
      "text/plain": [
       "<Figure size 432x288 with 1 Axes>"
      ]
     },
     "metadata": {
      "needs_background": "light"
     },
     "output_type": "display_data"
    }
   ],
   "source": [
    "df_fake['Pregnancies'].hist()"
   ]
  },
  {
   "cell_type": "code",
   "execution_count": 194,
   "metadata": {},
   "outputs": [
    {
     "data": {
      "text/plain": [
       "<matplotlib.axes._subplots.AxesSubplot at 0x208a7035cf8>"
      ]
     },
     "execution_count": 194,
     "metadata": {},
     "output_type": "execute_result"
    },
    {
     "data": {
      "image/png": "[encoded data removed]",
      "text/plain": [
       "<Figure size 432x288 with 1 Axes>"
      ]
     },
     "metadata": {
      "needs_background": "light"
     },
     "output_type": "display_data"
    }
   ],
   "source": [
    "df_raw['Pregnancies'].hist()"
   ]
  },
  {
   "cell_type": "code",
   "execution_count": 195,
   "metadata": {
    "colab": {
     "base_uri": "https://localhost:8080/",
     "height": 34
    },
    "colab_type": "code",
    "id": "jmg-f2Ovenim",
    "outputId": "1c1e3301-6853-4d86-ce5d-daee86812752"
   },
   "outputs": [],
   "source": [
    "for feat,dist in catFeatureMap.items():\n",
    "    for key, val in dist.items():\n",
    "        lower_bound = val[2]\n",
    "        upper_bound = val[3]\n",
    "        df_fake.loc[ df_fake[feat].abs().between(lower_bound, upper_bound), 'temp'] = key\n",
    "    df_fake.loc[:,feat] = df_fake['temp']\n",
    "\n",
    "df_fake = df_fake.drop(columns='temp')"
   ]
  },
  {
   "cell_type": "code",
   "execution_count": 9,
   "metadata": {},
   "outputs": [
    {
     "data": {
      "text/html": [
       "<div>\n",
       "<style scoped>\n",
       "    .dataframe tbody tr th:only-of-type {\n",
       "        vertical-align: middle;\n",
       "    }\n",
       "\n",
       "    .dataframe tbody tr th {\n",
       "        vertical-align: top;\n",
       "    }\n",
       "\n",
       "    .dataframe thead th {\n",
       "        text-align: right;\n",
       "    }\n",
       "</style>\n",
       "<table border=\"1\" class=\"dataframe\">\n",
       "  <thead>\n",
       "    <tr style=\"text-align: right;\">\n",
       "      <th></th>\n",
       "      <th>Pregnancies</th>\n",
       "      <th>Glucose</th>\n",
       "      <th>BloodPressure</th>\n",
       "      <th>SkinThickness</th>\n",
       "      <th>Insulin</th>\n",
       "      <th>BMI</th>\n",
       "      <th>DiabetesPedigreeFunction</th>\n",
       "      <th>Age</th>\n",
       "      <th>Outcome</th>\n",
       "    </tr>\n",
       "  </thead>\n",
       "  <tbody>\n",
       "    <tr>\n",
       "      <th>0</th>\n",
       "      <td>1</td>\n",
       "      <td>104</td>\n",
       "      <td>84</td>\n",
       "      <td>-1</td>\n",
       "      <td>-5</td>\n",
       "      <td>23.943371</td>\n",
       "      <td>0.372309</td>\n",
       "      <td>37</td>\n",
       "      <td>0</td>\n",
       "    </tr>\n",
       "    <tr>\n",
       "      <th>1</th>\n",
       "      <td>5</td>\n",
       "      <td>87</td>\n",
       "      <td>72</td>\n",
       "      <td>36</td>\n",
       "      <td>104</td>\n",
       "      <td>34.069390</td>\n",
       "      <td>0.569960</td>\n",
       "      <td>25</td>\n",
       "      <td>0</td>\n",
       "    </tr>\n",
       "    <tr>\n",
       "      <th>2</th>\n",
       "      <td>2</td>\n",
       "      <td>99</td>\n",
       "      <td>64</td>\n",
       "      <td>24</td>\n",
       "      <td>90</td>\n",
       "      <td>35.283991</td>\n",
       "      <td>0.396068</td>\n",
       "      <td>23</td>\n",
       "      <td>0</td>\n",
       "    </tr>\n",
       "    <tr>\n",
       "      <th>3</th>\n",
       "      <td>10</td>\n",
       "      <td>128</td>\n",
       "      <td>66</td>\n",
       "      <td>1</td>\n",
       "      <td>7</td>\n",
       "      <td>32.455374</td>\n",
       "      <td>0.471220</td>\n",
       "      <td>38</td>\n",
       "      <td>1</td>\n",
       "    </tr>\n",
       "    <tr>\n",
       "      <th>4</th>\n",
       "      <td>4</td>\n",
       "      <td>87</td>\n",
       "      <td>74</td>\n",
       "      <td>35</td>\n",
       "      <td>97</td>\n",
       "      <td>34.291534</td>\n",
       "      <td>0.557889</td>\n",
       "      <td>25</td>\n",
       "      <td>0</td>\n",
       "    </tr>\n",
       "  </tbody>\n",
       "</table>\n",
       "</div>"
      ],
      "text/plain": [
       "   Pregnancies  Glucose  BloodPressure  SkinThickness  Insulin        BMI  \\\n",
       "0            1      104             84             -1       -5  23.943371   \n",
       "1            5       87             72             36      104  34.069390   \n",
       "2            2       99             64             24       90  35.283991   \n",
       "3           10      128             66              1        7  32.455374   \n",
       "4            4       87             74             35       97  34.291534   \n",
       "\n",
       "   DiabetesPedigreeFunction  Age  Outcome  \n",
       "0                  0.372309   37        0  \n",
       "1                  0.569960   25        0  \n",
       "2                  0.396068   23        0  \n",
       "3                  0.471220   38        1  \n",
       "4                  0.557889   25        0  "
      ]
     },
     "execution_count": 9,
     "metadata": {},
     "output_type": "execute_result"
    }
   ],
   "source": [
    "df_fake.head(5)"
   ]
  },
  {
   "cell_type": "markdown",
   "metadata": {},
   "source": [
    "# Utility - Correlation"
   ]
  },
  {
   "cell_type": "code",
   "execution_count": 306,
   "metadata": {
    "colab": {
     "base_uri": "https://localhost:8080/",
     "height": 726
    },
    "colab_type": "code",
    "id": "dZBh_KsY0aTy",
    "outputId": "1171d910-858a-47dc-9cb4-56163b82802d"
   },
   "outputs": [
    {
     "data": {
      "text/plain": [
       "<matplotlib.axes._subplots.AxesSubplot at 0x2089c6ae080>"
      ]
     },
     "execution_count": 306,
     "metadata": {},
     "output_type": "execute_result"
    },
    {
     "data": {
      "image/png": "[encoded data removed]",
      "text/plain": [
       "<Figure size 432x288 with 2 Axes>"
      ]
     },
     "metadata": {
      "needs_background": "light"
     },
     "output_type": "display_data"
    }
   ],
   "source": [
    "#phik.report.correlation_report(df)\n",
    "#df.phik_matrix()\n",
    "sns.heatmap(df.corr(), xticklabels = df.columns, yticklabels = df.columns, center = 0,vmin=-1, vmax=1.0, cmap=\"BrBG\")"
   ]
  },
  {
   "cell_type": "code",
   "execution_count": 92,
   "metadata": {},
   "outputs": [
    {
     "data": {
      "text/plain": [
       "<matplotlib.axes._subplots.AxesSubplot at 0x257250e8b70>"
      ]
     },
     "execution_count": 92,
     "metadata": {},
     "output_type": "execute_result"
    },
    {
     "data": {
      "image/png": "[encoded data removed]",
      "text/plain": [
       "<Figure size 432x288 with 2 Axes>"
      ]
     },
     "metadata": {
      "needs_background": "light"
     },
     "output_type": "display_data"
    }
   ],
   "source": [
    "sns.heatmap(df_fake_norm.corr(), xticklabels = df_fake_norm.columns, yticklabels = df_fake_norm.columns, center = 0, vmin = -1, vmax=1.0, cmap=\"BrBG\")"
   ]
  },
  {
   "cell_type": "code",
   "execution_count": 34,
   "metadata": {
    "scrolled": true
   },
   "outputs": [
    {
     "data": {
      "text/plain": [
       "<matplotlib.axes._subplots.AxesSubplot at 0x257249ae0b8>"
      ]
     },
     "execution_count": 34,
     "metadata": {},
     "output_type": "execute_result"
    },
    {
     "data": {
      "image/png": "[encoded data removed]",
      "text/plain": [
       "<Figure size 432x288 with 2 Axes>"
      ]
     },
     "metadata": {
      "needs_background": "light"
     },
     "output_type": "display_data"
    }
   ],
   "source": [
    "sns.heatmap(df_fake_norm.corr(), xticklabels = df_fake_norm.columns, yticklabels = df_fake_norm.columns, center = 0, vmin = -1, vmax=1.0, cmap=\"BrBG\")"
   ]
  },
  {
   "cell_type": "code",
   "execution_count": 20,
   "metadata": {},
   "outputs": [],
   "source": [
    "df_fake_cd = df_fake.copy()\n",
    "df_ori_cd = df_raw.copy()"
   ]
  },
  {
   "cell_type": "code",
   "execution_count": 12,
   "metadata": {},
   "outputs": [
    {
     "data": {
      "text/plain": [
       "<matplotlib.axes._subplots.AxesSubplot at 0x21b0a1ab7f0>"
      ]
     },
     "execution_count": 12,
     "metadata": {},
     "output_type": "execute_result"
    },
    {
     "data": {
      "image/png": "[encoded data removed]",
      "text/plain": [
       "<Figure size 432x288 with 2 Axes>"
      ]
     },
     "metadata": {
      "needs_background": "light"
     },
     "output_type": "display_data"
    }
   ],
   "source": [
    "corr = df_ori_cd.corr()\n",
    "mask = np.zeros_like(corr, dtype=np.bool)\n",
    "mask[np.triu_indices_from(mask)] = True\n",
    "cmap = sns.diverging_palette(220, 10, as_cmap=True)\n",
    "sns.heatmap(corr, mask=mask, square=True, linewidths=.5,center = 0,vmin=-1, vmax=1.0, cmap=\"RdBu_r\")"
   ]
  },
  {
   "cell_type": "code",
   "execution_count": 21,
   "metadata": {},
   "outputs": [
    {
     "data": {
      "text/plain": [
       "<matplotlib.axes._subplots.AxesSubplot at 0x21b0d321588>"
      ]
     },
     "execution_count": 21,
     "metadata": {},
     "output_type": "execute_result"
    },
    {
     "data": {
      "image/png": "[encoded data removed]",
      "text/plain": [
       "<Figure size 432x288 with 2 Axes>"
      ]
     },
     "metadata": {
      "needs_background": "light"
     },
     "output_type": "display_data"
    }
   ],
   "source": [
    "corr = df_fake_cd.corr()\n",
    "mask = np.zeros_like(corr, dtype=np.bool)\n",
    "mask[np.triu_indices_from(mask)] = True\n",
    "cmap = sns.diverging_palette(220, 10, as_cmap=True)\n",
    "sns.heatmap(corr, mask=mask, square=True, linewidths=.5,center = 0,vmin=-1, vmax=1.0, cmap=\"RdBu_r\")"
   ]
  },
  {
   "cell_type": "markdown",
   "metadata": {},
   "source": [
    "# Utility - XGBoost Classification"
   ]
  },
  {
   "cell_type": "code",
   "execution_count": 106,
   "metadata": {},
   "outputs": [],
   "source": [
    "target = 'Outcome'\n",
    "features_ = list(features)\n",
    "features_.remove(target)\n",
    "X_real = df_raw[features_]\n",
    "y_real = df_raw[target]\n",
    "X_fake = df_fake[features_]\n",
    "y_fake = df_fake[target]"
   ]
  },
  {
   "cell_type": "code",
   "execution_count": 107,
   "metadata": {},
   "outputs": [],
   "source": [
    "seed = 7777\n",
    "test_size = 0.2\n",
    "X_train_real, X_test_real, y_train_real, y_test_real = train_test_split(X_real, y_real, test_size=test_size, random_state=seed)\n",
    "X_train_fake, X_test_fake, y_train_fake, y_test_fake = train_test_split(X_fake, y_fake, test_size=test_size, random_state=seed)"
   ]
  },
  {
   "cell_type": "code",
   "execution_count": 108,
   "metadata": {},
   "outputs": [
    {
     "data": {
      "text/html": [
       "<div>\n",
       "<style scoped>\n",
       "    .dataframe tbody tr th:only-of-type {\n",
       "        vertical-align: middle;\n",
       "    }\n",
       "\n",
       "    .dataframe tbody tr th {\n",
       "        vertical-align: top;\n",
       "    }\n",
       "\n",
       "    .dataframe thead th {\n",
       "        text-align: right;\n",
       "    }\n",
       "</style>\n",
       "<table border=\"1\" class=\"dataframe\">\n",
       "  <thead>\n",
       "    <tr style=\"text-align: right;\">\n",
       "      <th></th>\n",
       "      <th>Pregnancies</th>\n",
       "      <th>Glucose</th>\n",
       "      <th>BloodPressure</th>\n",
       "      <th>SkinThickness</th>\n",
       "      <th>Insulin</th>\n",
       "      <th>BMI</th>\n",
       "      <th>DiabetesPedigreeFunction</th>\n",
       "      <th>Age</th>\n",
       "      <th>Outcome</th>\n",
       "    </tr>\n",
       "  </thead>\n",
       "  <tbody>\n",
       "    <tr>\n",
       "      <th>0</th>\n",
       "      <td>4</td>\n",
       "      <td>97</td>\n",
       "      <td>75</td>\n",
       "      <td>33</td>\n",
       "      <td>162</td>\n",
       "      <td>32.350758</td>\n",
       "      <td>0.218307</td>\n",
       "      <td>24</td>\n",
       "      <td>0</td>\n",
       "    </tr>\n",
       "    <tr>\n",
       "      <th>1</th>\n",
       "      <td>3</td>\n",
       "      <td>117</td>\n",
       "      <td>72</td>\n",
       "      <td>34</td>\n",
       "      <td>4</td>\n",
       "      <td>38.151428</td>\n",
       "      <td>0.272315</td>\n",
       "      <td>22</td>\n",
       "      <td>0</td>\n",
       "    </tr>\n",
       "    <tr>\n",
       "      <th>2</th>\n",
       "      <td>2</td>\n",
       "      <td>89</td>\n",
       "      <td>66</td>\n",
       "      <td>22</td>\n",
       "      <td>51</td>\n",
       "      <td>27.139673</td>\n",
       "      <td>0.212122</td>\n",
       "      <td>22</td>\n",
       "      <td>0</td>\n",
       "    </tr>\n",
       "    <tr>\n",
       "      <th>3</th>\n",
       "      <td>5</td>\n",
       "      <td>132</td>\n",
       "      <td>75</td>\n",
       "      <td>30</td>\n",
       "      <td>180</td>\n",
       "      <td>29.904858</td>\n",
       "      <td>0.258539</td>\n",
       "      <td>38</td>\n",
       "      <td>1</td>\n",
       "    </tr>\n",
       "    <tr>\n",
       "      <th>4</th>\n",
       "      <td>8</td>\n",
       "      <td>93</td>\n",
       "      <td>81</td>\n",
       "      <td>30</td>\n",
       "      <td>63</td>\n",
       "      <td>26.253227</td>\n",
       "      <td>0.271762</td>\n",
       "      <td>35</td>\n",
       "      <td>0</td>\n",
       "    </tr>\n",
       "  </tbody>\n",
       "</table>\n",
       "</div>"
      ],
      "text/plain": [
       "   Pregnancies  Glucose  BloodPressure  SkinThickness  Insulin        BMI  \\\n",
       "0            4       97             75             33      162  32.350758   \n",
       "1            3      117             72             34        4  38.151428   \n",
       "2            2       89             66             22       51  27.139673   \n",
       "3            5      132             75             30      180  29.904858   \n",
       "4            8       93             81             30       63  26.253227   \n",
       "\n",
       "   DiabetesPedigreeFunction  Age  Outcome  \n",
       "0                  0.218307   24        0  \n",
       "1                  0.272315   22        0  \n",
       "2                  0.212122   22        0  \n",
       "3                  0.258539   38        1  \n",
       "4                  0.271762   35        0  "
      ]
     },
     "execution_count": 108,
     "metadata": {},
     "output_type": "execute_result"
    }
   ],
   "source": [
    "df_fake.head(5)"
   ]
  },
  {
   "cell_type": "markdown",
   "metadata": {},
   "source": [
    "### Train and Test on Original"
   ]
  },
  {
   "cell_type": "code",
   "execution_count": 44,
   "metadata": {},
   "outputs": [
    {
     "data": {
      "text/plain": [
       "XGBClassifier(base_score=0.5, booster='gbtree', colsample_bylevel=1,\n",
       "       colsample_bynode=1, colsample_bytree=1, gamma=0, learning_rate=0.1,\n",
       "       max_delta_step=0, max_depth=3, min_child_weight=1, missing=None,\n",
       "       n_estimators=100, n_jobs=1, nthread=None,\n",
       "       objective='binary:logistic', random_state=0, reg_alpha=0,\n",
       "       reg_lambda=1, scale_pos_weight=1, seed=None, silent=None,\n",
       "       subsample=1, verbosity=1)"
      ]
     },
     "execution_count": 44,
     "metadata": {},
     "output_type": "execute_result"
    }
   ],
   "source": [
    "# fit model no training data\n",
    "xgb_model = XGBClassifier()\n",
    "xgb_model.fit(X_train_real, y_train_real)"
   ]
  },
  {
   "cell_type": "code",
   "execution_count": 45,
   "metadata": {},
   "outputs": [
    {
     "name": "stdout",
     "output_type": "stream",
     "text": [
      "Accuracy:  78.57142857142857\n"
     ]
    },
    {
     "name": "stderr",
     "output_type": "stream",
     "text": [
      "C:\\ProgramData\\Anaconda3\\lib\\site-packages\\sklearn\\preprocessing\\label.py:151: DeprecationWarning: The truth value of an empty array is ambiguous. Returning False, but in future this will result in an error. Use `array.size > 0` to check that an array is not empty.\n",
      "  if diff:\n"
     ]
    }
   ],
   "source": [
    "# make predictions for test data\n",
    "y_pred_real = xgb_model.predict(X_test_real)\n",
    "predictions = [round(value) for value in y_pred_real]\n",
    "\n",
    "# evaluate predictions\n",
    "accuracy = accuracy_score(list(y_test_real), predictions)\n",
    "print(\"Accuracy: \",  accuracy * 100.0)"
   ]
  },
  {
   "cell_type": "markdown",
   "metadata": {},
   "source": [
    "### Train on Synthetic and Test on Original "
   ]
  },
  {
   "cell_type": "code",
   "execution_count": 109,
   "metadata": {},
   "outputs": [
    {
     "data": {
      "text/plain": [
       "XGBClassifier(base_score=0.5, booster='gbtree', colsample_bylevel=1,\n",
       "       colsample_bynode=1, colsample_bytree=1, gamma=0, learning_rate=0.1,\n",
       "       max_delta_step=0, max_depth=3, min_child_weight=1, missing=None,\n",
       "       n_estimators=100, n_jobs=1, nthread=None,\n",
       "       objective='binary:logistic', random_state=0, reg_alpha=0,\n",
       "       reg_lambda=1, scale_pos_weight=1, seed=None, silent=None,\n",
       "       subsample=1, verbosity=1)"
      ]
     },
     "execution_count": 109,
     "metadata": {},
     "output_type": "execute_result"
    }
   ],
   "source": [
    "# fit model no training data\n",
    "xgb_model = XGBClassifier()\n",
    "xgb_model.fit(X_train_fake, y_train_fake)"
   ]
  },
  {
   "cell_type": "code",
   "execution_count": 110,
   "metadata": {},
   "outputs": [
    {
     "name": "stdout",
     "output_type": "stream",
     "text": [
      "Accuracy:  62.33766233766234\n"
     ]
    },
    {
     "name": "stderr",
     "output_type": "stream",
     "text": [
      "C:\\ProgramData\\Anaconda3\\lib\\site-packages\\sklearn\\preprocessing\\label.py:151: DeprecationWarning: The truth value of an empty array is ambiguous. Returning False, but in future this will result in an error. Use `array.size > 0` to check that an array is not empty.\n",
      "  if diff:\n"
     ]
    }
   ],
   "source": [
    "# make predictions for test data\n",
    "y_pred_real = xgb_model.predict(X_test_real)\n",
    "predictions = [round(value) for value in y_pred_real]\n",
    "\n",
    "# evaluate predictions\n",
    "accuracy = accuracy_score(list(y_test_real), predictions)\n",
    "print(\"Accuracy: \",  accuracy * 100.0)"
   ]
  },
  {
   "cell_type": "markdown",
   "metadata": {},
   "source": [
    "### Train and test on Synthetic "
   ]
  },
  {
   "cell_type": "code",
   "execution_count": 111,
   "metadata": {},
   "outputs": [
    {
     "name": "stdout",
     "output_type": "stream",
     "text": [
      "Accuracy:  79.87012987012987\n"
     ]
    },
    {
     "name": "stderr",
     "output_type": "stream",
     "text": [
      "C:\\ProgramData\\Anaconda3\\lib\\site-packages\\sklearn\\preprocessing\\label.py:151: DeprecationWarning: The truth value of an empty array is ambiguous. Returning False, but in future this will result in an error. Use `array.size > 0` to check that an array is not empty.\n",
      "  if diff:\n"
     ]
    }
   ],
   "source": [
    "# make predictions for test data\n",
    "y_pred_fake = xgb_model.predict(X_test_fake)\n",
    "predictions = [round(value) for value in y_pred_fake]\n",
    "\n",
    "# evaluate predictions\n",
    "accuracy = accuracy_score(list(y_test_fake), predictions)\n",
    "print(\"Accuracy: \",  accuracy * 100.0)"
   ]
  },
  {
   "cell_type": "markdown",
   "metadata": {},
   "source": [
    "# Privacy"
   ]
  },
  {
   "cell_type": "markdown",
   "metadata": {},
   "source": [
    "## Euclidean Distance"
   ]
  },
  {
   "cell_type": "code",
   "execution_count": 93,
   "metadata": {},
   "outputs": [],
   "source": [
    "shortest_dist = np.zeros((df.shape[0], 2), dtype=np.float32)\n",
    "#shortest_dist = np.zeros(df.shape[0], dtype=np.float32)\n",
    "\n",
    "for index, row in df.iterrows():\n",
    "    row = row.values.reshape(1,df.shape[1])\n",
    "    dist_arr = euclidean_distances(row, df_fake_norm.values)\n",
    "    shortest_dist[index, 0] = np.min(dist_arr)\n",
    "    shortest_dist[index, 1] = np.argmin(dist_arr)"
   ]
  },
  {
   "cell_type": "code",
   "execution_count": 94,
   "metadata": {},
   "outputs": [
    {
     "name": "stdout",
     "output_type": "stream",
     "text": [
      "0.25269154\n",
      "0.122018605\n"
     ]
    }
   ],
   "source": [
    "print(np.mean(shortest_dist[:,0]))\n",
    "print(np.std(shortest_dist[:,0]))"
   ]
  },
  {
   "cell_type": "code",
   "execution_count": 95,
   "metadata": {},
   "outputs": [
    {
     "data": {
      "text/html": [
       "<div>\n",
       "<style scoped>\n",
       "    .dataframe tbody tr th:only-of-type {\n",
       "        vertical-align: middle;\n",
       "    }\n",
       "\n",
       "    .dataframe tbody tr th {\n",
       "        vertical-align: top;\n",
       "    }\n",
       "\n",
       "    .dataframe thead th {\n",
       "        text-align: right;\n",
       "    }\n",
       "</style>\n",
       "<table border=\"1\" class=\"dataframe\">\n",
       "  <thead>\n",
       "    <tr style=\"text-align: right;\">\n",
       "      <th></th>\n",
       "      <th>Pregnancies</th>\n",
       "      <th>Glucose</th>\n",
       "      <th>BloodPressure</th>\n",
       "      <th>SkinThickness</th>\n",
       "      <th>Insulin</th>\n",
       "      <th>BMI</th>\n",
       "      <th>DiabetesPedigreeFunction</th>\n",
       "      <th>Age</th>\n",
       "      <th>Outcome</th>\n",
       "    </tr>\n",
       "  </thead>\n",
       "  <tbody>\n",
       "    <tr>\n",
       "      <th>0</th>\n",
       "      <td>-0.004197</td>\n",
       "      <td>-0.120205</td>\n",
       "      <td>0.048034</td>\n",
       "      <td>0.124250</td>\n",
       "      <td>0.096957</td>\n",
       "      <td>0.005338</td>\n",
       "      <td>-0.108270</td>\n",
       "      <td>-0.145740</td>\n",
       "      <td>0.408196</td>\n",
       "    </tr>\n",
       "    <tr>\n",
       "      <th>1</th>\n",
       "      <td>-0.068363</td>\n",
       "      <td>-0.019546</td>\n",
       "      <td>0.026336</td>\n",
       "      <td>0.132622</td>\n",
       "      <td>-0.089341</td>\n",
       "      <td>0.091786</td>\n",
       "      <td>-0.085210</td>\n",
       "      <td>-0.190306</td>\n",
       "      <td>0.452390</td>\n",
       "    </tr>\n",
       "    <tr>\n",
       "      <th>2</th>\n",
       "      <td>-0.084253</td>\n",
       "      <td>-0.158678</td>\n",
       "      <td>-0.023937</td>\n",
       "      <td>0.014305</td>\n",
       "      <td>-0.033892</td>\n",
       "      <td>-0.072323</td>\n",
       "      <td>-0.110911</td>\n",
       "      <td>-0.195110</td>\n",
       "      <td>0.291672</td>\n",
       "    </tr>\n",
       "    <tr>\n",
       "      <th>3</th>\n",
       "      <td>0.046647</td>\n",
       "      <td>0.057948</td>\n",
       "      <td>0.048274</td>\n",
       "      <td>0.093843</td>\n",
       "      <td>0.117941</td>\n",
       "      <td>-0.031114</td>\n",
       "      <td>-0.091092</td>\n",
       "      <td>0.084016</td>\n",
       "      <td>0.837903</td>\n",
       "    </tr>\n",
       "    <tr>\n",
       "      <th>4</th>\n",
       "      <td>0.270358</td>\n",
       "      <td>-0.141435</td>\n",
       "      <td>0.099749</td>\n",
       "      <td>0.098795</td>\n",
       "      <td>-0.020379</td>\n",
       "      <td>-0.085534</td>\n",
       "      <td>-0.085446</td>\n",
       "      <td>0.024051</td>\n",
       "      <td>0.268700</td>\n",
       "    </tr>\n",
       "  </tbody>\n",
       "</table>\n",
       "</div>"
      ],
      "text/plain": [
       "   Pregnancies   Glucose  BloodPressure  SkinThickness   Insulin       BMI  \\\n",
       "0    -0.004197 -0.120205       0.048034       0.124250  0.096957  0.005338   \n",
       "1    -0.068363 -0.019546       0.026336       0.132622 -0.089341  0.091786   \n",
       "2    -0.084253 -0.158678      -0.023937       0.014305 -0.033892 -0.072323   \n",
       "3     0.046647  0.057948       0.048274       0.093843  0.117941 -0.031114   \n",
       "4     0.270358 -0.141435       0.099749       0.098795 -0.020379 -0.085534   \n",
       "\n",
       "   DiabetesPedigreeFunction       Age   Outcome  \n",
       "0                 -0.108270 -0.145740  0.408196  \n",
       "1                 -0.085210 -0.190306  0.452390  \n",
       "2                 -0.110911 -0.195110  0.291672  \n",
       "3                 -0.091092  0.084016  0.837903  \n",
       "4                 -0.085446  0.024051  0.268700  "
      ]
     },
     "execution_count": 95,
     "metadata": {},
     "output_type": "execute_result"
    }
   ],
   "source": [
    "df_fake_norm.head(5)\n",
    "#df_fake_norm[num_features] * df_raw[num_features].std().values + df_raw[num_features].mean().values"
   ]
  },
  {
   "cell_type": "code",
   "execution_count": 96,
   "metadata": {},
   "outputs": [],
   "source": [
    "sdist = pd.DataFrame(shortest_dist)"
   ]
  },
  {
   "cell_type": "code",
   "execution_count": 97,
   "metadata": {},
   "outputs": [],
   "source": [
    "closest5 = sdist.sort_values(0).head(5)"
   ]
  },
  {
   "cell_type": "code",
   "execution_count": 98,
   "metadata": {},
   "outputs": [],
   "source": [
    "idx_ori = closest5.index.values\n",
    "idx_syn = closest5[1].values\n",
    "df_raw.iloc[idx_ori, :].to_clipboard()"
   ]
  },
  {
   "cell_type": "code",
   "execution_count": 102,
   "metadata": {},
   "outputs": [],
   "source": [
    "df_fake.iloc[idx_syn, :].to_clipboard()"
   ]
  },
  {
   "cell_type": "code",
   "execution_count": 99,
   "metadata": {},
   "outputs": [],
   "source": [
    "#df_fake_norm.to_csv('License_Fake_Norm.csv', index=False)\n",
    "#df_fake.to_csv('License_Fake.csv', index=False)\n",
    "#pd.DataFrame.from_dict(catFeatureMap).to_csv('Feature_Map.csv', index=False)\n",
    "sdist.to_csv('Diabetes_Fake_Distance_10k_2.csv', index=False)"
   ]
  },
  {
   "cell_type": "code",
   "execution_count": 2,
   "metadata": {},
   "outputs": [],
   "source": [
    "#Euclidean Distance for Fake Norm\n",
    "df_fake_norm = pd.read_csv('License_Fake_Norm.csv')"
   ]
  },
  {
   "cell_type": "markdown",
   "metadata": {},
   "source": [
    "## Record Linkage"
   ]
  },
  {
   "cell_type": "code",
   "execution_count": null,
   "metadata": {},
   "outputs": [],
   "source": [
    "#!pip install recordlinkage"
   ]
  },
  {
   "cell_type": "code",
   "execution_count": 103,
   "metadata": {},
   "outputs": [
    {
     "name": "stdout",
     "output_type": "stream",
     "text": [
      "WARNING:recordlinkage:indexing - performance warning - A full index can result in large number of record pairs.\n"
     ]
    },
    {
     "name": "stderr",
     "output_type": "stream",
     "text": [
      "W0831 14:59:35.371340 16388 index.py:46] indexing - performance warning - A full index can result in large number of record pairs.\n"
     ]
    }
   ],
   "source": [
    "import recordlinkage\n",
    "indexer = recordlinkage.Index()\n",
    "indexer.full()\n",
    "pairs = indexer.index(df_raw, df_fake)"
   ]
  },
  {
   "cell_type": "code",
   "execution_count": 104,
   "metadata": {},
   "outputs": [],
   "source": [
    "# Comparing Step\n",
    "compare_cl = recordlinkage.Compare()\n",
    "\n",
    "for col in colnames:\n",
    "    compare_cl.numeric(col, col)\n",
    "\n",
    "rec_features = compare_cl.compute(pairs, df_raw, df_fake)"
   ]
  },
  {
   "cell_type": "code",
   "execution_count": 105,
   "metadata": {},
   "outputs": [
    {
     "name": "stdout",
     "output_type": "stream",
     "text": [
      "Record Linkage >= 3 the value 50922\n",
      "Record Linkage >= 4 the value 5281\n",
      "Record Linkage >= 5 the value 315\n",
      "Record Linkage >= 6 the value 11\n",
      "Record Linkage >= 7 the value 0\n",
      "Record Linkage >= 8 the value 0\n"
     ]
    }
   ],
   "source": [
    "# Classification step\n",
    "for i in np.arange(3, len(colnames)):\n",
    "    matches = rec_features[rec_features.sum(axis=1) >= i]\n",
    "    print(\"Record Linkage >= %d the value %d\" % (i ,len(matches)))\n"
   ]
  },
  {
   "cell_type": "code",
   "execution_count": null,
   "metadata": {},
   "outputs": [],
   "source": []
  }
 ],
 "metadata": {
  "colab": {
   "collapsed_sections": [],
   "name": "GAN_Synthetic_Dataset.ipynb",
   "provenance": [],
   "version": "0.3.2"
  },
  "kernelspec": {
   "display_name": "Python 3",
   "language": "python",
   "name": "python3"
  },
  "language_info": {
   "codemirror_mode": {
    "name": "ipython",
    "version": 3
   },
   "file_extension": ".py",
   "mimetype": "text/x-python",
   "name": "python",
   "nbconvert_exporter": "python",
   "pygments_lexer": "ipython3",
   "version": "3.6.4"
  }
 },
 "nbformat": 4,
 "nbformat_minor": 1
}
