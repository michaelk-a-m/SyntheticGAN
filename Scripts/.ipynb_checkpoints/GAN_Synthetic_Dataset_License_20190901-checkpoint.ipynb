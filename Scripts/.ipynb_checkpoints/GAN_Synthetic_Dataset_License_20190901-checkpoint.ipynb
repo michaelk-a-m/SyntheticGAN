{
 "cells": [
  {
   "cell_type": "code",
   "execution_count": null,
   "metadata": {
    "colab": {},
    "colab_type": "code",
    "id": "Es0HzH7yeniL"
   },
   "outputs": [],
   "source": [
    "from numpy import hstack\n",
    "from numpy import zeros\n",
    "from numpy import ones\n",
    "import numpy as np\n",
    "import phik\n",
    "import datetime, os\n",
    "import seaborn as sns\n",
    "from phik import report\n",
    "from numpy.random import rand\n",
    "from numpy.random import randn\n",
    "from numpy.random import random\n",
    "from keras.models import Sequential\n",
    "from keras.layers import Dense\n",
    "from keras.layers import BatchNormalization\n",
    "from keras.models import load_model\n",
    "from matplotlib import pyplot\n",
    "from tensorboard import notebook\n",
    "from sklearn.metrics.pairwise import euclidean_distances \n",
    "from sklearn.preprocessing import normalize\n",
    "from sklearn import preprocessing\n",
    "%matplotlib inline\n",
    "from xgboost import XGBClassifier, XGBRegressor\n",
    "from sklearn.model_selection import train_test_split\n",
    "from sklearn.metrics import accuracy_score\n",
    "import pandas as pd"
   ]
  },
  {
   "cell_type": "code",
   "execution_count": 2,
   "metadata": {},
   "outputs": [],
   "source": [
    "\n",
    "def cast_datatype(df, col_dtype):\n",
    "\n",
    "    for col in df.columns:\n",
    "        df[col] = df[col].astype(col_dtype[col])\n",
    "    \n",
    "    return df\n"
   ]
  },
  {
   "cell_type": "code",
   "execution_count": 3,
   "metadata": {},
   "outputs": [],
   "source": [
    "### NYC Drivers License Application\n",
    "\n",
    "df_raw = pd.read_csv('Historical_Driver_Application_Status.csv', header=0)\n",
    "colnames = df_raw.columns\n",
    "features = list(set(df_raw.columns) - {'App No', 'FRU Interview Scheduled'})\n",
    "date_features = ['App Date', 'Last Updated']\n",
    "cat_features = list(set(features) - set(date_features))\n"
   ]
  },
  {
   "cell_type": "code",
   "execution_count": 113,
   "metadata": {},
   "outputs": [
    {
     "data": {
      "text/plain": [
       "['Type',\n",
       " 'Drug Test',\n",
       " 'Driver Exam',\n",
       " 'Medical Clearance Form',\n",
       " 'Other Requirements',\n",
       " 'Defensive Driving',\n",
       " 'Status',\n",
       " 'WAV Course']"
      ]
     },
     "execution_count": 113,
     "metadata": {},
     "output_type": "execute_result"
    }
   ],
   "source": [
    "cat_features"
   ]
  },
  {
   "cell_type": "code",
   "execution_count": null,
   "metadata": {},
   "outputs": [],
   "source": [
    "##For date features\n",
    "for col in date_features:\n",
    "    df_raw.loc[:,col] = pd.to_datetime(df_raw[col]).astype(np.int64) // 10**9\n",
    "\n",
    "df = df_raw[features]\n",
    "df.loc[:,date_features] = (df_raw[date_features] - df_raw[date_features].mean()) / (df_raw[date_features].max() - df_raw[date_features].min())"
   ]
  },
  {
   "cell_type": "code",
   "execution_count": 5,
   "metadata": {
    "colab": {},
    "colab_type": "code",
    "id": "dBBS3OEreniT"
   },
   "outputs": [],
   "source": [
    "def categorical_mapping(data,feature):\n",
    "    \n",
    "    featureMap=dict()\n",
    "    freq_dist = data[feature].value_counts(normalize=True, sort=True).cumsum()\n",
    "    unique_vals = freq_dist.index.tolist()\n",
    "   \n",
    "    idx = 0\n",
    "    for i in unique_vals:\n",
    "      if idx == 0:\n",
    "        featureMap[i] = (freq_dist[idx]/2 , freq_dist[idx]/6, 0, freq_dist[idx]) #np.random.normal(freq_dist[idx], (freq_dist[idx]-0)/6)\n",
    "      else:\n",
    "        featureMap[i] = ((freq_dist[idx]+freq_dist[idx-1])/2, (freq_dist[idx]-freq_dist[idx-1])/6, freq_dist[idx-1], freq_dist[idx])\n",
    "      idx += 1\n",
    "    return featureMap"
   ]
  },
  {
   "cell_type": "code",
   "execution_count": null,
   "metadata": {
    "colab": {
     "base_uri": "https://localhost:8080/",
     "height": 34
    },
    "colab_type": "code",
    "id": "8vtAyjPJeniQ",
    "outputId": "1b66ff1e-e471-4757-87cb-b5c8e478a0e7"
   },
   "outputs": [],
   "source": [
    "catFeatureMap = dict()\n",
    "\n",
    "for col in cat_features:\n",
    "  catFeatureMap[col] = categorical_mapping(df, col)\n",
    "  df.loc[:,col] = df[col].map(catFeatureMap[col])\n",
    "  df.loc[:,col] = df[col].apply(lambda x: np.random.normal(x[0], x[1]))\n",
    "  "
   ]
  },
  {
   "cell_type": "code",
   "execution_count": 170,
   "metadata": {},
   "outputs": [
    {
     "data": {
      "text/html": [
       "<div>\n",
       "<style scoped>\n",
       "    .dataframe tbody tr th:only-of-type {\n",
       "        vertical-align: middle;\n",
       "    }\n",
       "\n",
       "    .dataframe tbody tr th {\n",
       "        vertical-align: top;\n",
       "    }\n",
       "\n",
       "    .dataframe thead th {\n",
       "        text-align: right;\n",
       "    }\n",
       "</style>\n",
       "<table border=\"1\" class=\"dataframe\">\n",
       "  <thead>\n",
       "    <tr style=\"text-align: right;\">\n",
       "      <th></th>\n",
       "      <th>Type</th>\n",
       "      <th>App Date</th>\n",
       "      <th>Drug Test</th>\n",
       "      <th>Driver Exam</th>\n",
       "      <th>Medical Clearance Form</th>\n",
       "      <th>Other Requirements</th>\n",
       "      <th>Defensive Driving</th>\n",
       "      <th>Status</th>\n",
       "      <th>WAV Course</th>\n",
       "      <th>Last Updated</th>\n",
       "    </tr>\n",
       "  </thead>\n",
       "  <tbody>\n",
       "    <tr>\n",
       "      <th>0</th>\n",
       "      <td>0.997935</td>\n",
       "      <td>-0.110059</td>\n",
       "      <td>0.998332</td>\n",
       "      <td>0.996123</td>\n",
       "      <td>0.997196</td>\n",
       "      <td>0.417471</td>\n",
       "      <td>0.890962</td>\n",
       "      <td>0.941831</td>\n",
       "      <td>0.997902</td>\n",
       "      <td>-0.395678</td>\n",
       "    </tr>\n",
       "    <tr>\n",
       "      <th>1</th>\n",
       "      <td>0.976178</td>\n",
       "      <td>-0.080586</td>\n",
       "      <td>0.354357</td>\n",
       "      <td>0.411278</td>\n",
       "      <td>0.544593</td>\n",
       "      <td>0.980487</td>\n",
       "      <td>0.440721</td>\n",
       "      <td>0.906876</td>\n",
       "      <td>0.424616</td>\n",
       "      <td>-0.395678</td>\n",
       "    </tr>\n",
       "    <tr>\n",
       "      <th>2</th>\n",
       "      <td>0.977657</td>\n",
       "      <td>-0.078800</td>\n",
       "      <td>0.250126</td>\n",
       "      <td>0.852168</td>\n",
       "      <td>0.376750</td>\n",
       "      <td>0.585999</td>\n",
       "      <td>0.203299</td>\n",
       "      <td>0.887308</td>\n",
       "      <td>0.936807</td>\n",
       "      <td>-0.395678</td>\n",
       "    </tr>\n",
       "  </tbody>\n",
       "</table>\n",
       "</div>"
      ],
      "text/plain": [
       "       Type  App Date  Drug Test  Driver Exam  Medical Clearance Form  \\\n",
       "0  0.997935 -0.110059   0.998332     0.996123                0.997196   \n",
       "1  0.976178 -0.080586   0.354357     0.411278                0.544593   \n",
       "2  0.977657 -0.078800   0.250126     0.852168                0.376750   \n",
       "\n",
       "   Other Requirements  Defensive Driving    Status  WAV Course  Last Updated  \n",
       "0            0.417471           0.890962  0.941831    0.997902     -0.395678  \n",
       "1            0.980487           0.440721  0.906876    0.424616     -0.395678  \n",
       "2            0.585999           0.203299  0.887308    0.936807     -0.395678  "
      ]
     },
     "execution_count": 170,
     "metadata": {},
     "output_type": "execute_result"
    }
   ],
   "source": [
    "df.head(3)"
   ]
  },
  {
   "cell_type": "code",
   "execution_count": 60,
   "metadata": {
    "colab": {},
    "colab_type": "code",
    "id": "IqOqS_Usn1Lb"
   },
   "outputs": [],
   "source": [
    "dataset = df.values"
   ]
  },
  {
   "cell_type": "code",
   "execution_count": 61,
   "metadata": {
    "colab": {
     "base_uri": "https://localhost:8080/",
     "height": 134
    },
    "colab_type": "code",
    "id": "m2FJZ4Y2cIYt",
    "outputId": "f2cddfee-4cdc-476c-e970-a53e0b7522f5"
   },
   "outputs": [
    {
     "data": {
      "text/plain": [
       "array([[ 0.99793461, -0.110059  ,  0.99833247, ...,  0.9418306 ,\n",
       "         0.99790168, -0.39567773],\n",
       "       [ 0.9761785 , -0.08058594,  0.35435688, ...,  0.90687567,\n",
       "         0.42461571, -0.39567773],\n",
       "       [ 0.97765671, -0.0787997 ,  0.25012578, ...,  0.8873079 ,\n",
       "         0.9368067 , -0.39567773],\n",
       "       ...,\n",
       "       [ 0.38282851,  0.10339738,  0.49295701, ...,  0.48384197,\n",
       "         0.39284643,  0.56616544],\n",
       "       [ 0.09780261,  0.10354624,  0.46603325, ...,  0.43837865,\n",
       "         0.43706891,  0.56616544],\n",
       "       [ 0.61126888,  0.10354624,  0.54280325, ...,  0.33159547,\n",
       "         0.60835988,  0.56704768]])"
      ]
     },
     "execution_count": 61,
     "metadata": {},
     "output_type": "execute_result"
    }
   ],
   "source": [
    "dataset"
   ]
  },
  {
   "cell_type": "markdown",
   "metadata": {},
   "source": [
    "# Latest Version (20190826)"
   ]
  },
  {
   "cell_type": "code",
   "execution_count": 9,
   "metadata": {
    "colab": {},
    "colab_type": "code",
    "id": "KWMZjzEmenia"
   },
   "outputs": [],
   "source": [
    "\n",
    "# define the standalone discriminator model\n",
    "def define_discriminator(n_inputs=2):\n",
    "    model = Sequential()\n",
    "    model.add(Dense(256, activation='relu', kernel_initializer='he_uniform', input_dim=n_inputs))\n",
    "    model.add(Dense(128, activation='relu', kernel_initializer='he_uniform', input_dim=n_inputs))\n",
    "    #model.add(BatchNormalization())\n",
    "    model.add(Dense(1, activation='sigmoid'))\n",
    "    # compile model\n",
    "    model.compile(loss='binary_crossentropy', optimizer='adam', metrics=['accuracy'])\n",
    "    return model\n",
    "\n",
    "# define the standalone generator model\n",
    "def define_generator(latent_dim, n_outputs=2):\n",
    "    model = Sequential()\n",
    "    model.add(Dense(128, activation='relu', kernel_initializer='he_uniform', input_dim=latent_dim))\n",
    "    model.add(Dense(256, activation='relu', kernel_initializer='he_uniform', input_dim=latent_dim))\n",
    "    model.add(Dense(n_outputs, activation='linear'))\n",
    "    return model\n",
    "\n",
    "# define the combined generator and discriminator model, for updating the generator\n",
    "def define_gan(generator, discriminator):\n",
    "    # make weights in the discriminator not trainable\n",
    "    discriminator.trainable = False\n",
    "    # connect them\n",
    "    model = Sequential()\n",
    "    # add generator\n",
    "    model.add(generator)\n",
    "    # add the discriminator\n",
    "    model.add(discriminator)\n",
    "    # compile model\n",
    "    model.compile(loss='binary_crossentropy', optimizer='adam')\n",
    "    return model\n",
    "\n",
    "# generate n real samples with class labels\n",
    "def generate_real_samples(n):    \n",
    "    # generate inputs in [-0.5, 0.5]\n",
    "    X_train = dataset\n",
    "    data_batch =X_train[np.random.randint(low=0,high=X_train.shape[0],size=n)]\n",
    "    # generate class labels\n",
    "    y = ones((n, 1))\n",
    "    return data_batch, y\n",
    "\n",
    "# generate points in latent space as input for the generator\n",
    "def generate_latent_points(latent_dim, n):\n",
    "    # generate points in the latent space\n",
    "    x_input = randn(latent_dim * n)\n",
    "    # reshape into a batch of inputs for the network\n",
    "    x_input = x_input.reshape(n, latent_dim)\n",
    "    return x_input\n",
    "\n",
    "# use the generator to generate n fake examples, with class labels\n",
    "def generate_fake_samples(generator, latent_dim, n):\n",
    "    # generate points in latent space\n",
    "    x_input = generate_latent_points(latent_dim, n)\n",
    "    # predict outputs\n",
    "    X = generator.predict(x_input)\n",
    "    # create class labels\n",
    "    y = zeros((n, 1))\n",
    "    return X, y\n",
    "\n",
    "# evaluate the discriminator and plot real and fake points\n",
    "def summarize_performance(epoch, generator, discriminator, latent_dim, n=100):\n",
    "    # prepare real samples\n",
    "    x_real, y_real = generate_real_samples(n)\n",
    "    # evaluate discriminator on real examples\n",
    "    _, acc_real = discriminator.evaluate(x_real, y_real, verbose=0)\n",
    "    # prepare fake examples\n",
    "    x_fake, y_fake = generate_fake_samples(generator, latent_dim, n)\n",
    "    # evaluate discriminator on fake examples\n",
    "    _, acc_fake = discriminator.evaluate(x_fake, y_fake, verbose=0)\n",
    "    # summarize discriminator performance\n",
    "    print(epoch, acc_real, acc_fake)\n",
    "    \n",
    "\n",
    "def generate_fake_table(generator, discriminator, latent_dim, n=100):\n",
    "    # prepare fake examples\n",
    "    x_fake, y_fake = generate_fake_samples(generator, latent_dim, n)\n",
    "    return x_fake\n",
    "\n",
    "def plot_loss(loss_real_, loss_fake_, loss_gan_):\n",
    "    pyplot.plot(loss_real_, label='loss disc real')\n",
    "    pyplot.plot(loss_fake_, label='loss disc fake')\n",
    "    #pyplot.plot(loss_gan_, label='loss gan')\n",
    "    pyplot.legend()\n",
    "    pyplot.savefig('plot_loss.png')\n",
    "    pyplot.close()\n",
    "    \n",
    "\n",
    "def plot_acc(acc_real_, acc_fake_):\n",
    "    pyplot.plot(acc_real_, label='acc real')\n",
    "    pyplot.plot(acc_fake_, label='acc fake')\n",
    "    pyplot.legend()\n",
    "    pyplot.savefig('plot_accuracy.png')\n",
    "    pyplot.close()\n",
    "    \n",
    "\n",
    "def label_noise(y, prob):\n",
    "    n_noise = int(prob * y.shape[0])\n",
    "    noise_indices = [np.random.randint(0, y.shape[0]) for i in np.arange(0, n_noise)]\n",
    "    y[noise_indices] = 1 - y[noise_indices]\n",
    "    return y\n",
    "    \n",
    "def label_smoothing(y, y_class):\n",
    "    if y_class == 'real':\n",
    "        return y - 0.1 + (random(y.shape) * 0.5)\n",
    "    else:\n",
    "        return y + (random(y.shape) * 0.1)\n",
    "    \n",
    "    \n",
    "# train the generator and discriminator\n",
    "def train(g_model, d_model, gan_model, latent_dim, n_epochs=10000, n_batch=128, n_eval=2000):\n",
    "    acc_real_ = []\n",
    "    acc_fake_ = []\n",
    "    loss_real_ = []\n",
    "    loss_fake_ = []\n",
    "    loss_gan_ = []\n",
    "    \n",
    "    # determine half the size of one batch, for updating the discriminator\n",
    "    half_batch = int(n_batch / 2)\n",
    "    # manually enumerate epochs\n",
    "    for i in range(n_epochs):\n",
    "        # prepare real samples\n",
    "        x_real, y_real = generate_real_samples(half_batch)\n",
    "        y_real = label_noise(y_real, 0.1)\n",
    "        #y_real = label_smoothing(y_real, 'real')\n",
    "        # prepare fake examples\n",
    "        x_fake, y_fake = generate_fake_samples(g_model, latent_dim, half_batch)\n",
    "        #y_fake = label_smoothing(y_fake, 'fake')\n",
    "        # update discriminator\n",
    "        loss_real_i, acc_real_i = d_model.train_on_batch(x_real, y_real)\n",
    "        loss_fake_i, acc_fake_i = d_model.train_on_batch(x_fake, y_fake)\n",
    "        # prepare points in latent space as input for the generator\n",
    "        x_gan = generate_latent_points(latent_dim, n_batch)\n",
    "        # create inverted labels for the fake samples\n",
    "        y_gan = ones((n_batch, 1))\n",
    "        # update the generator via the discriminator's error\n",
    "        loss_gan_i = gan_model.train_on_batch(x_gan, y_gan)\n",
    "        acc_real_.append(acc_real_i)\n",
    "        loss_real_.append(loss_real_i)\n",
    "        acc_fake_.append(acc_fake_i)\n",
    "        loss_fake_.append(loss_fake_i)\n",
    "        loss_gan_.append(loss_gan_i)\n",
    "        # evaluate the model every n_eval epochs\n",
    "        if (i+1) % n_eval == 0:\n",
    "            summarize_performance(i, g_model, d_model, latent_dim)\n",
    "    plot_loss(loss_real_, loss_fake_, loss_gan_)\n",
    "    plot_acc(acc_real_, acc_fake_)\n",
    "    \n",
    "    return acc_real_, acc_fake_\n"
   ]
  },
  {
   "cell_type": "code",
   "execution_count": 171,
   "metadata": {
    "colab": {
     "base_uri": "https://localhost:8080/",
     "height": 1000
    },
    "colab_type": "code",
    "id": "U7Kxdqtwenie",
    "outputId": "f97fec0d-ec43-4750-d1e3-9daed8b53325"
   },
   "outputs": [
    {
     "name": "stderr",
     "output_type": "stream",
     "text": [
      "C:\\ProgramData\\Anaconda3\\lib\\site-packages\\keras\\engine\\training.py:490: UserWarning: Discrepancy between trainable weights and collected trainable weights, did you set `model.trainable` without calling `model.compile` after ?\n",
      "  'Discrepancy between trainable weights and collected trainable'\n"
     ]
    },
    {
     "name": "stdout",
     "output_type": "stream",
     "text": [
      "1999 0.59 0.83\n",
      "3999 0.39 0.47\n",
      "5999 0.64 0.86\n",
      "7999 0.64 0.87\n",
      "9999 0.53 0.46\n"
     ]
    }
   ],
   "source": [
    "# size of the latent space\n",
    "latent_dim = 100\n",
    "# create the discriminator\n",
    "discriminator = define_discriminator(dataset.shape[1])\n",
    "# create the generator\n",
    "generator = define_generator(latent_dim, dataset.shape[1])\n",
    "# create the gan\n",
    "gan_model = define_gan(generator, discriminator)\n",
    "# train model\n",
    "#train(generator, discriminator, gan_model, latent_dim)\n",
    "acc_real_, acc_fake_ = train(generator, discriminator, gan_model, latent_dim, n_epochs=10000)"
   ]
  },
  {
   "cell_type": "code",
   "execution_count": 172,
   "metadata": {
    "colab": {
     "base_uri": "https://localhost:8080/",
     "height": 370
    },
    "colab_type": "code",
    "id": "zUVn1z1Denij",
    "outputId": "877f7df0-4eeb-49c9-8f65-d901f9edf748"
   },
   "outputs": [],
   "source": [
    "fake_data = generate_fake_table(generator, discriminator, latent_dim, df.shape[0])"
   ]
  },
  {
   "cell_type": "code",
   "execution_count": 41,
   "metadata": {},
   "outputs": [],
   "source": [
    "df_fake_norm = pd.read_csv('license_fake_norm_100k.csv', header=0)"
   ]
  },
  {
   "cell_type": "code",
   "execution_count": 42,
   "metadata": {},
   "outputs": [],
   "source": [
    "df_fake = df_fake_norm.copy()"
   ]
  },
  {
   "cell_type": "code",
   "execution_count": 173,
   "metadata": {},
   "outputs": [],
   "source": [
    "df_fake_norm = pd.DataFrame(fake_data, columns = features)"
   ]
  },
  {
   "cell_type": "markdown",
   "metadata": {},
   "source": [
    "# Privacy"
   ]
  },
  {
   "cell_type": "markdown",
   "metadata": {},
   "source": [
    "## Euclidean Distance "
   ]
  },
  {
   "cell_type": "code",
   "execution_count": 174,
   "metadata": {},
   "outputs": [],
   "source": [
    "df_fake_norm.to_csv('license_fake_norm_10k.csv', header=True, index=False)\n",
    "#df.to_csv('adult_norm.csv', header=True, index=False)"
   ]
  },
  {
   "cell_type": "code",
   "execution_count": 175,
   "metadata": {},
   "outputs": [],
   "source": [
    "shortest_dist = np.zeros((df.shape[0], 2), dtype=np.float32)\n",
    "#shortest_dist = np.zeros(df.shape[0], dtype=np.float32)\n",
    "\n",
    "for index, row in df.iterrows():\n",
    "    row = row.values.reshape(1,df.shape[1])\n",
    "    dist_arr = euclidean_distances(row, df_fake_norm.values)\n",
    "    shortest_dist[index, 0] = np.min(dist_arr)\n",
    "    shortest_dist[index, 1] = np.argmin(dist_arr)"
   ]
  },
  {
   "cell_type": "code",
   "execution_count": 176,
   "metadata": {},
   "outputs": [
    {
     "name": "stdout",
     "output_type": "stream",
     "text": [
      "0.36950538\n",
      "0.17601882\n"
     ]
    }
   ],
   "source": [
    "print(np.mean(shortest_dist[:,0]))\n",
    "print(np.std(shortest_dist[:,0]))"
   ]
  },
  {
   "cell_type": "code",
   "execution_count": 177,
   "metadata": {
    "colab": {},
    "colab_type": "code",
    "id": "VprVlnAgzp2V"
   },
   "outputs": [],
   "source": [
    "#df_fake = pd.DataFrame(fake_data * (df_cat.max().values - df_cat.min().values) + df_cat.mean().values, columns=cat_features)\n",
    "#features = list(set(df_raw.columns) - {'App No', 'FRU Interview Scheduled'})\n",
    "df_fake = pd.DataFrame(fake_data, columns = features)"
   ]
  },
  {
   "cell_type": "code",
   "execution_count": 178,
   "metadata": {},
   "outputs": [
    {
     "data": {
      "text/html": [
       "<div>\n",
       "<style scoped>\n",
       "    .dataframe tbody tr th:only-of-type {\n",
       "        vertical-align: middle;\n",
       "    }\n",
       "\n",
       "    .dataframe tbody tr th {\n",
       "        vertical-align: top;\n",
       "    }\n",
       "\n",
       "    .dataframe thead th {\n",
       "        text-align: right;\n",
       "    }\n",
       "</style>\n",
       "<table border=\"1\" class=\"dataframe\">\n",
       "  <thead>\n",
       "    <tr style=\"text-align: right;\">\n",
       "      <th></th>\n",
       "      <th>Type</th>\n",
       "      <th>App Date</th>\n",
       "      <th>Drug Test</th>\n",
       "      <th>Driver Exam</th>\n",
       "      <th>Medical Clearance Form</th>\n",
       "      <th>Other Requirements</th>\n",
       "      <th>Defensive Driving</th>\n",
       "      <th>Status</th>\n",
       "      <th>WAV Course</th>\n",
       "      <th>Last Updated</th>\n",
       "    </tr>\n",
       "  </thead>\n",
       "  <tbody>\n",
       "    <tr>\n",
       "      <th>0</th>\n",
       "      <td>0.372438</td>\n",
       "      <td>0.042915</td>\n",
       "      <td>0.361432</td>\n",
       "      <td>0.309194</td>\n",
       "      <td>0.443380</td>\n",
       "      <td>0.240076</td>\n",
       "      <td>0.201111</td>\n",
       "      <td>0.323412</td>\n",
       "      <td>0.496029</td>\n",
       "      <td>0.070279</td>\n",
       "    </tr>\n",
       "    <tr>\n",
       "      <th>1</th>\n",
       "      <td>0.421027</td>\n",
       "      <td>0.050877</td>\n",
       "      <td>0.350313</td>\n",
       "      <td>0.287821</td>\n",
       "      <td>0.404228</td>\n",
       "      <td>0.241928</td>\n",
       "      <td>0.241363</td>\n",
       "      <td>0.303031</td>\n",
       "      <td>0.525636</td>\n",
       "      <td>0.152720</td>\n",
       "    </tr>\n",
       "  </tbody>\n",
       "</table>\n",
       "</div>"
      ],
      "text/plain": [
       "       Type  App Date  Drug Test  Driver Exam  Medical Clearance Form  \\\n",
       "0  0.372438  0.042915   0.361432     0.309194                0.443380   \n",
       "1  0.421027  0.050877   0.350313     0.287821                0.404228   \n",
       "\n",
       "   Other Requirements  Defensive Driving    Status  WAV Course  Last Updated  \n",
       "0            0.240076           0.201111  0.323412    0.496029      0.070279  \n",
       "1            0.241928           0.241363  0.303031    0.525636      0.152720  "
      ]
     },
     "execution_count": 178,
     "metadata": {},
     "output_type": "execute_result"
    }
   ],
   "source": [
    "df_fake.head(2)"
   ]
  },
  {
   "cell_type": "code",
   "execution_count": 43,
   "metadata": {},
   "outputs": [],
   "source": [
    "#df_fake[num_features] = df_fake[num_features] * df_raw[num_features].std().values + df_raw[num_features].mean().values\n",
    "df_fake[date_features] = df_fake[date_features] * (df_raw[date_features].max().values - df_raw[date_features].min().values ) + df_raw[date_features].mean().values"
   ]
  },
  {
   "cell_type": "code",
   "execution_count": 180,
   "metadata": {},
   "outputs": [],
   "source": [
    "sdist = pd.DataFrame(shortest_dist)"
   ]
  },
  {
   "cell_type": "code",
   "execution_count": 181,
   "metadata": {},
   "outputs": [],
   "source": [
    "closest5 = sdist.sort_values(0).head(5)"
   ]
  },
  {
   "cell_type": "code",
   "execution_count": 182,
   "metadata": {},
   "outputs": [
    {
     "data": {
      "text/html": [
       "<div>\n",
       "<style scoped>\n",
       "    .dataframe tbody tr th:only-of-type {\n",
       "        vertical-align: middle;\n",
       "    }\n",
       "\n",
       "    .dataframe tbody tr th {\n",
       "        vertical-align: top;\n",
       "    }\n",
       "\n",
       "    .dataframe thead th {\n",
       "        text-align: right;\n",
       "    }\n",
       "</style>\n",
       "<table border=\"1\" class=\"dataframe\">\n",
       "  <thead>\n",
       "    <tr style=\"text-align: right;\">\n",
       "      <th></th>\n",
       "      <th>0</th>\n",
       "      <th>1</th>\n",
       "    </tr>\n",
       "  </thead>\n",
       "  <tbody>\n",
       "    <tr>\n",
       "      <th>22899</th>\n",
       "      <td>0.034554</td>\n",
       "      <td>15005.0</td>\n",
       "    </tr>\n",
       "    <tr>\n",
       "      <th>16323</th>\n",
       "      <td>0.043941</td>\n",
       "      <td>69302.0</td>\n",
       "    </tr>\n",
       "    <tr>\n",
       "      <th>85626</th>\n",
       "      <td>0.045994</td>\n",
       "      <td>35181.0</td>\n",
       "    </tr>\n",
       "    <tr>\n",
       "      <th>22942</th>\n",
       "      <td>0.046014</td>\n",
       "      <td>114652.0</td>\n",
       "    </tr>\n",
       "    <tr>\n",
       "      <th>39257</th>\n",
       "      <td>0.047090</td>\n",
       "      <td>36983.0</td>\n",
       "    </tr>\n",
       "  </tbody>\n",
       "</table>\n",
       "</div>"
      ],
      "text/plain": [
       "              0         1\n",
       "22899  0.034554   15005.0\n",
       "16323  0.043941   69302.0\n",
       "85626  0.045994   35181.0\n",
       "22942  0.046014  114652.0\n",
       "39257  0.047090   36983.0"
      ]
     },
     "execution_count": 182,
     "metadata": {},
     "output_type": "execute_result"
    }
   ],
   "source": [
    "closest5"
   ]
  },
  {
   "cell_type": "code",
   "execution_count": 183,
   "metadata": {},
   "outputs": [],
   "source": [
    "idx_ori = closest5.index.values\n",
    "idx_syn = closest5[1].values\n",
    "df_raw.iloc[idx_ori, :].to_clipboard()"
   ]
  },
  {
   "cell_type": "code",
   "execution_count": 44,
   "metadata": {},
   "outputs": [],
   "source": [
    "for feat,dist in catFeatureMap.items():\n",
    "    for key, val in dist.items():\n",
    "        lower_bound = val[2]\n",
    "        upper_bound = val[3]\n",
    "        if key == list(dist.keys())[-1]:\n",
    "            df_fake.loc[df_fake[feat] >= lower_bound, 'temp'] = key\n",
    "        else:\n",
    "            df_fake.loc[ df_fake[feat].abs().between(lower_bound, upper_bound), 'temp'] = key\n",
    "    df_fake.loc[:,feat] = df_fake['temp']\n",
    "\n",
    "df_fake = df_fake.drop(columns='temp')"
   ]
  },
  {
   "cell_type": "code",
   "execution_count": 186,
   "metadata": {},
   "outputs": [],
   "source": [
    "df_fake.iloc[idx_syn, :].to_clipboard()"
   ]
  },
  {
   "cell_type": "code",
   "execution_count": 198,
   "metadata": {},
   "outputs": [],
   "source": [
    "for col in date_features:\n",
    "    df_fake.loc[:, col] = pd.to_datetime(df_fake.loc[:, col] * 10**9)"
   ]
  },
  {
   "cell_type": "code",
   "execution_count": 32,
   "metadata": {},
   "outputs": [
    {
     "data": {
      "text/plain": [
       "<matplotlib.axes._subplots.AxesSubplot at 0x26bee8008d0>"
      ]
     },
     "execution_count": 32,
     "metadata": {},
     "output_type": "execute_result"
    },
    {
     "data": {
      "image/png": "[encoded data removed]",
      "text/plain": [
       "<Figure size 432x288 with 1 Axes>"
      ]
     },
     "metadata": {
      "needs_background": "light"
     },
     "output_type": "display_data"
    }
   ],
   "source": [
    "df_raw['App Date'].hist()"
   ]
  },
  {
   "cell_type": "code",
   "execution_count": 31,
   "metadata": {},
   "outputs": [
    {
     "data": {
      "text/plain": [
       "<matplotlib.axes._subplots.AxesSubplot at 0x26bee736d68>"
      ]
     },
     "execution_count": 31,
     "metadata": {},
     "output_type": "execute_result"
    },
    {
     "data": {
      "image/png": "[encoded data removed]",
      "text/plain": [
       "<Figure size 432x288 with 1 Axes>"
      ]
     },
     "metadata": {
      "needs_background": "light"
     },
     "output_type": "display_data"
    }
   ],
   "source": [
    "df_fake['App Date'].hist()"
   ]
  },
  {
   "cell_type": "code",
   "execution_count": 10,
   "metadata": {
    "colab": {
     "base_uri": "https://localhost:8080/",
     "height": 34
    },
    "colab_type": "code",
    "id": "jmg-f2Ovenim",
    "outputId": "1c1e3301-6853-4d86-ce5d-daee86812752"
   },
   "outputs": [],
   "source": [
    "for feat,dist in catFeatureMap.items():\n",
    "    for key, val in dist.items():\n",
    "        lower_bound = val[2]\n",
    "        upper_bound = val[3]\n",
    "        df_fake.loc[ df_fake[feat].abs().between(lower_bound, upper_bound), 'temp'] = key\n",
    "    df_fake.loc[:,feat] = df_fake['temp']\n",
    "\n",
    "df_fake = df_fake.drop(columns='temp')"
   ]
  },
  {
   "cell_type": "code",
   "execution_count": 24,
   "metadata": {},
   "outputs": [],
   "source": [
    "shortest_dist = np.zeros(df.shape[0], dtype=np.float32)\n",
    "\n",
    "for index, row in df.iterrows():\n",
    "    #dist_arr = np.zeros(df_fake_norm.shape[0], dtype=np.float32)\n",
    "    #for index2, row2 in df_fake_norm.iterrows():\n",
    "    #    dist_arr[index2] = euclidean_dist(row, row2)\n",
    "    row = row.values.reshape(1,11)\n",
    "    dist_arr = euclidean_distances(row, df_fake_norm.values)\n",
    "    shortest_dist[index] = np.min(dist_arr)"
   ]
  },
  {
   "cell_type": "code",
   "execution_count": 26,
   "metadata": {},
   "outputs": [
    {
     "name": "stdout",
     "output_type": "stream",
     "text": [
      "1.2242043\n",
      "0.60987824\n"
     ]
    }
   ],
   "source": [
    "print(np.mean(shortest_dist))\n",
    "print(np.std(shortest_dist))"
   ]
  },
  {
   "cell_type": "code",
   "execution_count": null,
   "metadata": {},
   "outputs": [],
   "source": []
  },
  {
   "cell_type": "code",
   "execution_count": 27,
   "metadata": {},
   "outputs": [
    {
     "data": {
      "text/plain": [
       "<matplotlib.axes._subplots.AxesSubplot at 0x26bee2b49e8>"
      ]
     },
     "execution_count": 27,
     "metadata": {},
     "output_type": "execute_result"
    },
    {
     "data": {
      "image/png": "[encoded data removed]",
      "text/plain": [
       "<Figure size 432x288 with 1 Axes>"
      ]
     },
     "metadata": {
      "needs_background": "light"
     },
     "output_type": "display_data"
    }
   ],
   "source": [
    "df_raw['Status'].hist()"
   ]
  },
  {
   "cell_type": "code",
   "execution_count": 26,
   "metadata": {},
   "outputs": [
    {
     "data": {
      "text/plain": [
       "<matplotlib.axes._subplots.AxesSubplot at 0x26be7fcc358>"
      ]
     },
     "execution_count": 26,
     "metadata": {},
     "output_type": "execute_result"
    },
    {
     "data": {
      "image/png": "[encoded data removed]",
      "text/plain": [
       "<Figure size 432x288 with 1 Axes>"
      ]
     },
     "metadata": {
      "needs_background": "light"
     },
     "output_type": "display_data"
    }
   ],
   "source": [
    "df_fake['Status'].hist()"
   ]
  },
  {
   "cell_type": "code",
   "execution_count": 69,
   "metadata": {
    "colab": {
     "base_uri": "https://localhost:8080/",
     "height": 726
    },
    "colab_type": "code",
    "id": "dZBh_KsY0aTy",
    "outputId": "1171d910-858a-47dc-9cb4-56163b82802d"
   },
   "outputs": [
    {
     "data": {
      "text/plain": [
       "<matplotlib.axes._subplots.AxesSubplot at 0x26becbeb748>"
      ]
     },
     "execution_count": 69,
     "metadata": {},
     "output_type": "execute_result"
    },
    {
     "data": {
      "image/png": "[encoded data removed]",
      "text/plain": [
       "<Figure size 432x288 with 2 Axes>"
      ]
     },
     "metadata": {
      "needs_background": "light"
     },
     "output_type": "display_data"
    }
   ],
   "source": [
    "#phik.report.correlation_report(df)\n",
    "#df.phik_matrix()\n",
    "sns.heatmap(df.corr(), xticklabels = df.columns, yticklabels = df.columns, center = 0,vmin=-1, vmax=1.0, cmap=\"BrBG\")"
   ]
  },
  {
   "cell_type": "code",
   "execution_count": 187,
   "metadata": {},
   "outputs": [
    {
     "data": {
      "text/plain": [
       "<matplotlib.axes._subplots.AxesSubplot at 0x26be76764e0>"
      ]
     },
     "execution_count": 187,
     "metadata": {},
     "output_type": "execute_result"
    },
    {
     "data": {
      "image/png": "[encoded data removed]",
      "text/plain": [
       "<Figure size 432x288 with 2 Axes>"
      ]
     },
     "metadata": {
      "needs_background": "light"
     },
     "output_type": "display_data"
    }
   ],
   "source": [
    "sns.heatmap(df_fake_norm.corr(), xticklabels = df_fake_norm.columns, yticklabels = df_fake_norm.columns, center = 0, vmin = -1, vmax=1.0, cmap=\"BrBG\")"
   ]
  },
  {
   "cell_type": "code",
   "execution_count": 188,
   "metadata": {
    "scrolled": true
   },
   "outputs": [
    {
     "data": {
      "text/plain": [
       "<matplotlib.axes._subplots.AxesSubplot at 0x26be526e198>"
      ]
     },
     "execution_count": 188,
     "metadata": {},
     "output_type": "execute_result"
    },
    {
     "data": {
      "image/png": "[encoded data removed]",
      "text/plain": [
       "<Figure size 432x288 with 2 Axes>"
      ]
     },
     "metadata": {
      "needs_background": "light"
     },
     "output_type": "display_data"
    }
   ],
   "source": [
    "sns.heatmap(df.corr() - df_fake_norm.corr(), center = 0, cmap=\"BrBG\")"
   ]
  },
  {
   "cell_type": "code",
   "execution_count": 45,
   "metadata": {},
   "outputs": [],
   "source": [
    "#df_fake_10k = df_fake.copy()\n",
    "df_fake_100k = df_fake.copy()"
   ]
  },
  {
   "cell_type": "code",
   "execution_count": 25,
   "metadata": {},
   "outputs": [
    {
     "data": {
      "text/plain": [
       "array(['Complete', 'Needed', nan, 'Not Applicable'], dtype=object)"
      ]
     },
     "execution_count": 25,
     "metadata": {},
     "output_type": "execute_result"
    }
   ],
   "source": [
    "df_fake_cd['Drug Test'].unique()"
   ]
  },
  {
   "cell_type": "code",
   "execution_count": 46,
   "metadata": {},
   "outputs": [],
   "source": [
    "from sklearn.preprocessing import LabelEncoder\n",
    "#df_fake_cd = df_fake_10k.copy()\n",
    "df_fake_cd = df_fake_100k.copy()\n",
    "df_ori_cd = df_raw.drop(columns=['App No', 'FRU Interview Scheduled']).copy()"
   ]
  },
  {
   "cell_type": "code",
   "execution_count": 47,
   "metadata": {},
   "outputs": [],
   "source": [
    "for col in cat_features:\n",
    "    labelEncoder = LabelEncoder()\n",
    "    df_fake_cd.loc[:, col] = labelEncoder.fit_transform(df_fake_cd.loc[:,col].astype(str))\n",
    "    df_ori_cd.loc[:, col] = labelEncoder.fit_transform(df_ori_cd.loc[:,col].astype(str))"
   ]
  },
  {
   "cell_type": "code",
   "execution_count": 48,
   "metadata": {},
   "outputs": [],
   "source": [
    "sort_features = df_ori_cd.columns"
   ]
  },
  {
   "cell_type": "code",
   "execution_count": 49,
   "metadata": {},
   "outputs": [],
   "source": [
    "df_fake_cd = df_fake_cd.reindex(sort_features, axis=1)"
   ]
  },
  {
   "cell_type": "code",
   "execution_count": 50,
   "metadata": {},
   "outputs": [
    {
     "data": {
      "text/plain": [
       "<matplotlib.axes._subplots.AxesSubplot at 0x203d991cbe0>"
      ]
     },
     "execution_count": 50,
     "metadata": {},
     "output_type": "execute_result"
    },
    {
     "data": {
      "image/png": "[encoded data removed]",
      "text/plain": [
       "<Figure size 432x288 with 2 Axes>"
      ]
     },
     "metadata": {
      "needs_background": "light"
     },
     "output_type": "display_data"
    }
   ],
   "source": [
    "corr = df_fake_cd.corr()\n",
    "mask = np.zeros_like(corr, dtype=np.bool)\n",
    "mask[np.triu_indices_from(mask)] = True\n",
    "cmap = sns.diverging_palette(220, 10, as_cmap=True)\n",
    "sns.heatmap(corr, mask=mask, square=True, linewidths=.5,center = 0,vmin=-1, vmax=1.0, cmap=\"RdBu_r\")"
   ]
  },
  {
   "cell_type": "code",
   "execution_count": 28,
   "metadata": {},
   "outputs": [
    {
     "data": {
      "text/plain": [
       "<matplotlib.axes._subplots.AxesSubplot at 0x203d8d61208>"
      ]
     },
     "execution_count": 28,
     "metadata": {},
     "output_type": "execute_result"
    },
    {
     "data": {
      "image/png": "[encoded data removed]",
      "text/plain": [
       "<Figure size 432x288 with 2 Axes>"
      ]
     },
     "metadata": {
      "needs_background": "light"
     },
     "output_type": "display_data"
    }
   ],
   "source": [
    "#for col in cat_features:\n",
    "#    labelEncoder = LabelEncoder()\n",
    "#    df_ori_cd.loc[:, col] = labelEncoder.fit_transform(df_ori_cd.loc[:,col])\n",
    "\n",
    "corr = df_ori_cd.corr()\n",
    "mask = np.zeros_like(corr, dtype=np.bool)\n",
    "mask[np.triu_indices_from(mask)] = True\n",
    "cmap = sns.diverging_palette(220, 10, as_cmap=True)\n",
    "sns.heatmap(corr, mask=mask, square=True, linewidths=.5,center = 0,vmin=-1, vmax=1.0, cmap=\"RdBu_r\")"
   ]
  },
  {
   "cell_type": "code",
   "execution_count": 29,
   "metadata": {},
   "outputs": [],
   "source": [
    "df_fake = df_fake.reindex(features, axis=1)"
   ]
  },
  {
   "cell_type": "code",
   "execution_count": null,
   "metadata": {},
   "outputs": [],
   "source": []
  },
  {
   "cell_type": "code",
   "execution_count": 49,
   "metadata": {},
   "outputs": [
    {
     "data": {
      "text/plain": [
       "array(['HDR', 'CDR', 'VDR', 'nan', 'PDR'], dtype='<U3')"
      ]
     },
     "execution_count": 49,
     "metadata": {},
     "output_type": "execute_result"
    }
   ],
   "source": [
    "df_fake['Type'].unique().astype(str)"
   ]
  },
  {
   "cell_type": "markdown",
   "metadata": {},
   "source": [
    "# Utility - XGBoost Classification"
   ]
  },
  {
   "cell_type": "code",
   "execution_count": 189,
   "metadata": {},
   "outputs": [],
   "source": [
    "target = 'Status'\n",
    "features_ = features\n",
    "features_.remove(target)\n",
    "X_real = df_raw.drop(columns='App No')[features_]\n",
    "y_real = df_raw.drop(columns='App No')[target]\n",
    "X_fake = df_fake[features_]\n",
    "y_fake = df_fake[target]"
   ]
  },
  {
   "cell_type": "code",
   "execution_count": null,
   "metadata": {},
   "outputs": [],
   "source": [
    "from sklearn.preprocessing import LabelEncoder\n",
    "\n",
    "for col in cat_features:\n",
    "    labelEncoder = LabelEncoder()\n",
    "    if col != target:\n",
    "        X_fake.loc[:, col] = labelEncoder.fit_transform(X_fake.loc[:,col].astype(str))\n",
    "    else:\n",
    "        y_fake = labelEncoder.fit_transform(y_fake)\n"
   ]
  },
  {
   "cell_type": "code",
   "execution_count": 191,
   "metadata": {},
   "outputs": [],
   "source": [
    "for col in cat_features:\n",
    "    labelEncoder = LabelEncoder()\n",
    "    if col != target:\n",
    "        X_real.loc[:, col] = labelEncoder.fit_transform(X_real.loc[:,col].astype(str))\n",
    "    else:\n",
    "        y_real = labelEncoder.fit_transform(y_real)"
   ]
  },
  {
   "cell_type": "code",
   "execution_count": 192,
   "metadata": {},
   "outputs": [],
   "source": [
    "seed = 7777\n",
    "test_size = 0.2\n",
    "X_train_real, X_test_real, y_train_real, y_test_real = train_test_split(X_real, y_real, test_size=test_size, random_state=seed)\n",
    "X_train_fake, X_test_fake, y_train_fake, y_test_fake = train_test_split(X_fake, y_fake, test_size=test_size, random_state=seed)"
   ]
  },
  {
   "cell_type": "markdown",
   "metadata": {},
   "source": [
    "### Train and Test on Original"
   ]
  },
  {
   "cell_type": "code",
   "execution_count": 193,
   "metadata": {},
   "outputs": [
    {
     "data": {
      "text/plain": [
       "XGBClassifier(base_score=0.5, booster='gbtree', colsample_bylevel=1,\n",
       "       colsample_bynode=1, colsample_bytree=1, gamma=0, learning_rate=0.1,\n",
       "       max_delta_step=0, max_depth=3, min_child_weight=1, missing=None,\n",
       "       n_estimators=100, n_jobs=1, nthread=None,\n",
       "       objective='binary:logistic', random_state=0, reg_alpha=0,\n",
       "       reg_lambda=1, scale_pos_weight=1, seed=None, silent=None,\n",
       "       subsample=1, verbosity=1)"
      ]
     },
     "execution_count": 193,
     "metadata": {},
     "output_type": "execute_result"
    }
   ],
   "source": [
    "# fit model no training data\n",
    "from xgboost import XGBClassifier\n",
    "xgb_model = XGBClassifier()\n",
    "xgb_model.fit(X_train_real, y_train_real)"
   ]
  },
  {
   "cell_type": "code",
   "execution_count": 194,
   "metadata": {},
   "outputs": [
    {
     "name": "stdout",
     "output_type": "stream",
     "text": [
      "Accuracy:  99.91435562805873\n"
     ]
    },
    {
     "name": "stderr",
     "output_type": "stream",
     "text": [
      "C:\\ProgramData\\Anaconda3\\lib\\site-packages\\sklearn\\preprocessing\\label.py:151: DeprecationWarning: The truth value of an empty array is ambiguous. Returning False, but in future this will result in an error. Use `array.size > 0` to check that an array is not empty.\n",
      "  if diff:\n"
     ]
    }
   ],
   "source": [
    "# make predictions for test data\n",
    "y_pred_real = xgb_model.predict(X_test_real)\n",
    "predictions = [round(value) for value in y_pred_real]\n",
    "\n",
    "# evaluate predictions\n",
    "accuracy = accuracy_score(list(y_test_real), predictions)\n",
    "print(\"Accuracy: \",  accuracy * 100.0)"
   ]
  },
  {
   "cell_type": "markdown",
   "metadata": {},
   "source": [
    "### Train on Synthetic and Test on Original "
   ]
  },
  {
   "cell_type": "code",
   "execution_count": 195,
   "metadata": {},
   "outputs": [
    {
     "data": {
      "text/plain": [
       "XGBClassifier(base_score=0.5, booster='gbtree', colsample_bylevel=1,\n",
       "       colsample_bynode=1, colsample_bytree=1, gamma=0, learning_rate=0.1,\n",
       "       max_delta_step=0, max_depth=3, min_child_weight=1, missing=None,\n",
       "       n_estimators=100, n_jobs=1, nthread=None,\n",
       "       objective='binary:logistic', random_state=0, reg_alpha=0,\n",
       "       reg_lambda=1, scale_pos_weight=1, seed=None, silent=None,\n",
       "       subsample=1, verbosity=1)"
      ]
     },
     "execution_count": 195,
     "metadata": {},
     "output_type": "execute_result"
    }
   ],
   "source": [
    "# fit model no training data\n",
    "xgb_model = XGBClassifier()\n",
    "xgb_model.fit(X_train_fake, y_train_fake)"
   ]
  },
  {
   "cell_type": "code",
   "execution_count": 196,
   "metadata": {
    "scrolled": true
   },
   "outputs": [
    {
     "name": "stdout",
     "output_type": "stream",
     "text": [
      "Accuracy:  76.61908646003262\n"
     ]
    },
    {
     "name": "stderr",
     "output_type": "stream",
     "text": [
      "C:\\ProgramData\\Anaconda3\\lib\\site-packages\\sklearn\\preprocessing\\label.py:151: DeprecationWarning: The truth value of an empty array is ambiguous. Returning False, but in future this will result in an error. Use `array.size > 0` to check that an array is not empty.\n",
      "  if diff:\n"
     ]
    }
   ],
   "source": [
    "# make predictions for test data\n",
    "y_pred_real = xgb_model.predict(X_test_real)\n",
    "predictions = [round(value) for value in y_pred_real]\n",
    "\n",
    "# evaluate predictions\n",
    "accuracy = accuracy_score(list(y_test_real), predictions)\n",
    "print(\"Accuracy: \",  accuracy * 100.0)"
   ]
  },
  {
   "cell_type": "markdown",
   "metadata": {},
   "source": [
    "### Train and test on Synthetic "
   ]
  },
  {
   "cell_type": "code",
   "execution_count": 197,
   "metadata": {},
   "outputs": [
    {
     "name": "stdout",
     "output_type": "stream",
     "text": [
      "Accuracy:  98.85399673735726\n"
     ]
    },
    {
     "name": "stderr",
     "output_type": "stream",
     "text": [
      "C:\\ProgramData\\Anaconda3\\lib\\site-packages\\sklearn\\preprocessing\\label.py:151: DeprecationWarning: The truth value of an empty array is ambiguous. Returning False, but in future this will result in an error. Use `array.size > 0` to check that an array is not empty.\n",
      "  if diff:\n"
     ]
    }
   ],
   "source": [
    "# make predictions for test data\n",
    "y_pred_fake = xgb_model.predict(X_test_fake)\n",
    "predictions = [round(value) for value in y_pred_fake]\n",
    "# evaluate predictions\n",
    "accuracy = accuracy_score(list(y_test_fake), predictions)\n",
    "print(\"Accuracy: \",  accuracy * 100.0)"
   ]
  },
  {
   "cell_type": "code",
   "execution_count": 150,
   "metadata": {},
   "outputs": [],
   "source": [
    "#df_fake_norm.to_csv('License_Fake_Norm.csv', index=False)\n",
    "#df_fake.to_csv('License_Fake.csv', index=False)\n",
    "#pd.DataFrame.from_dict(catFeatureMap).to_csv('Feature_Map.csv', index=False)\n",
    "sdist.to_csv('License_Fake_Distance_100k.csv', index=False)"
   ]
  },
  {
   "cell_type": "markdown",
   "metadata": {},
   "source": [
    "## Record Linkage"
   ]
  },
  {
   "cell_type": "code",
   "execution_count": null,
   "metadata": {},
   "outputs": [],
   "source": [
    "#!pip install recordlinkage"
   ]
  },
  {
   "cell_type": "code",
   "execution_count": 166,
   "metadata": {},
   "outputs": [
    {
     "data": {
      "text/html": [
       "<div>\n",
       "<style scoped>\n",
       "    .dataframe tbody tr th:only-of-type {\n",
       "        vertical-align: middle;\n",
       "    }\n",
       "\n",
       "    .dataframe tbody tr th {\n",
       "        vertical-align: top;\n",
       "    }\n",
       "\n",
       "    .dataframe thead th {\n",
       "        text-align: right;\n",
       "    }\n",
       "</style>\n",
       "<table border=\"1\" class=\"dataframe\">\n",
       "  <thead>\n",
       "    <tr style=\"text-align: right;\">\n",
       "      <th></th>\n",
       "      <th>Type</th>\n",
       "      <th>App Date</th>\n",
       "      <th>Status</th>\n",
       "      <th>Drug Test</th>\n",
       "      <th>WAV Course</th>\n",
       "      <th>Defensive Driving</th>\n",
       "      <th>Driver Exam</th>\n",
       "      <th>Medical Clearance Form</th>\n",
       "      <th>Other Requirements</th>\n",
       "      <th>Last Updated</th>\n",
       "    </tr>\n",
       "  </thead>\n",
       "  <tbody>\n",
       "    <tr>\n",
       "      <th>0</th>\n",
       "      <td>PDR</td>\n",
       "      <td>2015-07-27</td>\n",
       "      <td>Denied</td>\n",
       "      <td>Not Applicable</td>\n",
       "      <td>Not Applicable</td>\n",
       "      <td>Needed</td>\n",
       "      <td>Not Applicable</td>\n",
       "      <td>Not Applicable</td>\n",
       "      <td>Not Applicable</td>\n",
       "      <td>2016-08-03</td>\n",
       "    </tr>\n",
       "    <tr>\n",
       "      <th>1</th>\n",
       "      <td>CDR</td>\n",
       "      <td>2016-02-10</td>\n",
       "      <td>Denied</td>\n",
       "      <td>Complete</td>\n",
       "      <td>Complete</td>\n",
       "      <td>Complete</td>\n",
       "      <td>Complete</td>\n",
       "      <td>Complete</td>\n",
       "      <td>Open items needed. E-mail newdriverapp@tlc.nyc...</td>\n",
       "      <td>2016-08-03</td>\n",
       "    </tr>\n",
       "  </tbody>\n",
       "</table>\n",
       "</div>"
      ],
      "text/plain": [
       "  Type    App Date  Status       Drug Test      WAV Course Defensive Driving  \\\n",
       "0  PDR  2015-07-27  Denied  Not Applicable  Not Applicable            Needed   \n",
       "1  CDR  2016-02-10  Denied        Complete        Complete          Complete   \n",
       "\n",
       "      Driver Exam Medical Clearance Form  \\\n",
       "0  Not Applicable         Not Applicable   \n",
       "1        Complete               Complete   \n",
       "\n",
       "                                  Other Requirements Last Updated  \n",
       "0                                     Not Applicable   2016-08-03  \n",
       "1  Open items needed. E-mail newdriverapp@tlc.nyc...   2016-08-03  "
      ]
     },
     "execution_count": 166,
     "metadata": {},
     "output_type": "execute_result"
    }
   ],
   "source": [
    "df_raw2 = df_raw.drop(columns=['App No', 'FRU Interview Scheduled'])\n",
    "for col in date_features:\n",
    "    df_raw2.loc[:, col] = pd.to_datetime(df_raw2.loc[:, col] * 10**9).dt.strftime('%Y-%m-%d')\n",
    "df_raw2.head(2)"
   ]
  },
  {
   "cell_type": "code",
   "execution_count": 161,
   "metadata": {},
   "outputs": [
    {
     "data": {
      "text/html": [
       "<div>\n",
       "<style scoped>\n",
       "    .dataframe tbody tr th:only-of-type {\n",
       "        vertical-align: middle;\n",
       "    }\n",
       "\n",
       "    .dataframe tbody tr th {\n",
       "        vertical-align: top;\n",
       "    }\n",
       "\n",
       "    .dataframe thead th {\n",
       "        text-align: right;\n",
       "    }\n",
       "</style>\n",
       "<table border=\"1\" class=\"dataframe\">\n",
       "  <thead>\n",
       "    <tr style=\"text-align: right;\">\n",
       "      <th></th>\n",
       "      <th>Type</th>\n",
       "      <th>App Date</th>\n",
       "      <th>Drug Test</th>\n",
       "      <th>Driver Exam</th>\n",
       "      <th>Medical Clearance Form</th>\n",
       "      <th>Other Requirements</th>\n",
       "      <th>Defensive Driving</th>\n",
       "      <th>Status</th>\n",
       "      <th>WAV Course</th>\n",
       "      <th>Last Updated</th>\n",
       "    </tr>\n",
       "  </thead>\n",
       "  <tbody>\n",
       "    <tr>\n",
       "      <th>0</th>\n",
       "      <td>HDR</td>\n",
       "      <td>2017-01-26 18:17:50.394779648</td>\n",
       "      <td>Complete</td>\n",
       "      <td>Complete</td>\n",
       "      <td>Complete</td>\n",
       "      <td>Not Applicable</td>\n",
       "      <td>Complete</td>\n",
       "      <td>Approved - License Issued</td>\n",
       "      <td>Complete</td>\n",
       "      <td>2017-05-06 12:46:07.356704768</td>\n",
       "    </tr>\n",
       "    <tr>\n",
       "      <th>1</th>\n",
       "      <td>HDR</td>\n",
       "      <td>2017-03-04 11:45:18.394779648</td>\n",
       "      <td>Not Applicable</td>\n",
       "      <td>Complete</td>\n",
       "      <td>Needed</td>\n",
       "      <td>Fingerprints needed; Copy of DMV license needed</td>\n",
       "      <td>Needed</td>\n",
       "      <td>Denied</td>\n",
       "      <td>Not Applicable</td>\n",
       "      <td>2017-07-15 16:05:06.356704768</td>\n",
       "    </tr>\n",
       "  </tbody>\n",
       "</table>\n",
       "</div>"
      ],
      "text/plain": [
       "  Type                      App Date       Drug Test Driver Exam  \\\n",
       "0  HDR 2017-01-26 18:17:50.394779648        Complete    Complete   \n",
       "1  HDR 2017-03-04 11:45:18.394779648  Not Applicable    Complete   \n",
       "\n",
       "  Medical Clearance Form                               Other Requirements  \\\n",
       "0               Complete                                   Not Applicable   \n",
       "1                 Needed  Fingerprints needed; Copy of DMV license needed   \n",
       "\n",
       "  Defensive Driving                     Status      WAV Course  \\\n",
       "0          Complete  Approved - License Issued        Complete   \n",
       "1            Needed                     Denied  Not Applicable   \n",
       "\n",
       "                   Last Updated  \n",
       "0 2017-05-06 12:46:07.356704768  \n",
       "1 2017-07-15 16:05:06.356704768  "
      ]
     },
     "execution_count": 161,
     "metadata": {},
     "output_type": "execute_result"
    }
   ],
   "source": [
    "for col in date_features:\n",
    "    df_fake.loc[:, col] = pd.to_datetime(df_fake.loc[:, col] * 10**9).dt.strftime('%Y-%m-%d')\n",
    "df_fake.head(2)"
   ]
  },
  {
   "cell_type": "code",
   "execution_count": 169,
   "metadata": {},
   "outputs": [
    {
     "ename": "MemoryError",
     "evalue": "Unable to allocate array with shape (10316701836,) and data type int64",
     "output_type": "error",
     "traceback": [
      "\u001b[1;31m---------------------------------------------------------------------------\u001b[0m",
      "\u001b[1;31mMemoryError\u001b[0m                               Traceback (most recent call last)",
      "\u001b[1;32m<ipython-input-169-ef8e8b305bc7>\u001b[0m in \u001b[0;36m<module>\u001b[1;34m()\u001b[0m\n\u001b[0;32m      3\u001b[0m \u001b[1;31m#indexer.full()\u001b[0m\u001b[1;33m\u001b[0m\u001b[1;33m\u001b[0m\u001b[0m\n\u001b[0;32m      4\u001b[0m \u001b[0mindexer\u001b[0m\u001b[1;33m.\u001b[0m\u001b[0mblock\u001b[0m\u001b[1;33m(\u001b[0m\u001b[0mleft_on\u001b[0m\u001b[1;33m=\u001b[0m\u001b[1;33m[\u001b[0m\u001b[1;34m'Type'\u001b[0m\u001b[1;33m,\u001b[0m \u001b[1;34m'Drug Test'\u001b[0m\u001b[1;33m,\u001b[0m \u001b[1;34m'Driver Exam'\u001b[0m\u001b[1;33m]\u001b[0m\u001b[1;33m)\u001b[0m\u001b[1;33m\u001b[0m\u001b[0m\n\u001b[1;32m----> 5\u001b[1;33m \u001b[0mpairs\u001b[0m \u001b[1;33m=\u001b[0m \u001b[0mindexer\u001b[0m\u001b[1;33m.\u001b[0m\u001b[0mindex\u001b[0m\u001b[1;33m(\u001b[0m\u001b[0mdf_raw2\u001b[0m\u001b[1;33m,\u001b[0m \u001b[0mdf_fake\u001b[0m\u001b[1;33m)\u001b[0m\u001b[1;33m\u001b[0m\u001b[0m\n\u001b[0m",
      "\u001b[1;32mC:\\ProgramData\\Anaconda3\\lib\\site-packages\\recordlinkage\\base.py\u001b[0m in \u001b[0;36mindex\u001b[1;34m(self, x, x_link)\u001b[0m\n\u001b[0;32m    125\u001b[0m         \u001b[0mpairs\u001b[0m \u001b[1;33m=\u001b[0m \u001b[1;32mNone\u001b[0m\u001b[1;33m\u001b[0m\u001b[0m\n\u001b[0;32m    126\u001b[0m         \u001b[1;32mfor\u001b[0m \u001b[0mcl_alg\u001b[0m \u001b[1;32min\u001b[0m \u001b[0mself\u001b[0m\u001b[1;33m.\u001b[0m\u001b[0malgorithms\u001b[0m\u001b[1;33m:\u001b[0m\u001b[1;33m\u001b[0m\u001b[0m\n\u001b[1;32m--> 127\u001b[1;33m             \u001b[0mpairs_i\u001b[0m \u001b[1;33m=\u001b[0m \u001b[0mcl_alg\u001b[0m\u001b[1;33m.\u001b[0m\u001b[0mindex\u001b[0m\u001b[1;33m(\u001b[0m\u001b[0mx\u001b[0m\u001b[1;33m,\u001b[0m \u001b[0mx_link\u001b[0m\u001b[1;33m)\u001b[0m\u001b[1;33m\u001b[0m\u001b[0m\n\u001b[0m\u001b[0;32m    128\u001b[0m \u001b[1;33m\u001b[0m\u001b[0m\n\u001b[0;32m    129\u001b[0m             \u001b[1;32mif\u001b[0m \u001b[0mpairs\u001b[0m \u001b[1;32mis\u001b[0m \u001b[1;32mNone\u001b[0m\u001b[1;33m:\u001b[0m\u001b[1;33m\u001b[0m\u001b[0m\n",
      "\u001b[1;32mC:\\ProgramData\\Anaconda3\\lib\\site-packages\\recordlinkage\\base.py\u001b[0m in \u001b[0;36mindex\u001b[1;34m(self, x, x_link)\u001b[0m\n\u001b[0;32m    342\u001b[0m         \u001b[1;32mif\u001b[0m \u001b[1;32mnot\u001b[0m \u001b[0mself\u001b[0m\u001b[1;33m.\u001b[0m\u001b[0m_deduplication\u001b[0m\u001b[1;33m(\u001b[0m\u001b[0mx\u001b[0m\u001b[1;33m)\u001b[0m\u001b[1;33m:\u001b[0m\u001b[1;33m\u001b[0m\u001b[0m\n\u001b[0;32m    343\u001b[0m \u001b[1;33m\u001b[0m\u001b[0m\n\u001b[1;32m--> 344\u001b[1;33m             \u001b[0mpairs\u001b[0m \u001b[1;33m=\u001b[0m \u001b[0mself\u001b[0m\u001b[1;33m.\u001b[0m\u001b[0m_link_index\u001b[0m\u001b[1;33m(\u001b[0m\u001b[1;33m*\u001b[0m\u001b[0mx\u001b[0m\u001b[1;33m)\u001b[0m\u001b[1;33m\u001b[0m\u001b[0m\n\u001b[0m\u001b[0;32m    345\u001b[0m             \u001b[0mnames\u001b[0m \u001b[1;33m=\u001b[0m \u001b[0mself\u001b[0m\u001b[1;33m.\u001b[0m\u001b[0m_make_index_names\u001b[0m\u001b[1;33m(\u001b[0m\u001b[0mx\u001b[0m\u001b[1;33m[\u001b[0m\u001b[1;36m0\u001b[0m\u001b[1;33m]\u001b[0m\u001b[1;33m.\u001b[0m\u001b[0mindex\u001b[0m\u001b[1;33m.\u001b[0m\u001b[0mname\u001b[0m\u001b[1;33m,\u001b[0m \u001b[0mx\u001b[0m\u001b[1;33m[\u001b[0m\u001b[1;36m1\u001b[0m\u001b[1;33m]\u001b[0m\u001b[1;33m.\u001b[0m\u001b[0mindex\u001b[0m\u001b[1;33m.\u001b[0m\u001b[0mname\u001b[0m\u001b[1;33m)\u001b[0m\u001b[1;33m\u001b[0m\u001b[0m\n\u001b[0;32m    346\u001b[0m \u001b[1;33m\u001b[0m\u001b[0m\n",
      "\u001b[1;32mC:\\ProgramData\\Anaconda3\\lib\\site-packages\\recordlinkage\\index.py\u001b[0m in \u001b[0;36m_link_index\u001b[1;34m(self, df_a, df_b)\u001b[0m\n\u001b[0;32m    148\u001b[0m \u001b[1;33m\u001b[0m\u001b[0m\n\u001b[0;32m    149\u001b[0m         \u001b[1;31m# merge the dataframes\u001b[0m\u001b[1;33m\u001b[0m\u001b[1;33m\u001b[0m\u001b[0m\n\u001b[1;32m--> 150\u001b[1;33m         \u001b[0mpairs_df\u001b[0m \u001b[1;33m=\u001b[0m \u001b[0mdata_left\u001b[0m\u001b[1;33m.\u001b[0m\u001b[0mmerge\u001b[0m\u001b[1;33m(\u001b[0m\u001b[0mdata_right\u001b[0m\u001b[1;33m,\u001b[0m \u001b[0mhow\u001b[0m\u001b[1;33m=\u001b[0m\u001b[1;34m'inner'\u001b[0m\u001b[1;33m,\u001b[0m \u001b[0mon\u001b[0m\u001b[1;33m=\u001b[0m\u001b[0mblocking_keys\u001b[0m\u001b[1;33m)\u001b[0m\u001b[1;33m\u001b[0m\u001b[0m\n\u001b[0m\u001b[0;32m    151\u001b[0m \u001b[1;33m\u001b[0m\u001b[0m\n\u001b[0;32m    152\u001b[0m         return pandas.MultiIndex(\n",
      "\u001b[1;32m~\\AppData\\Roaming\\Python\\Python36\\site-packages\\pandas\\core\\frame.py\u001b[0m in \u001b[0;36mmerge\u001b[1;34m(self, right, how, on, left_on, right_on, left_index, right_index, sort, suffixes, copy, indicator, validate)\u001b[0m\n\u001b[0;32m   7321\u001b[0m             \u001b[0mcopy\u001b[0m\u001b[1;33m=\u001b[0m\u001b[0mcopy\u001b[0m\u001b[1;33m,\u001b[0m\u001b[1;33m\u001b[0m\u001b[0m\n\u001b[0;32m   7322\u001b[0m             \u001b[0mindicator\u001b[0m\u001b[1;33m=\u001b[0m\u001b[0mindicator\u001b[0m\u001b[1;33m,\u001b[0m\u001b[1;33m\u001b[0m\u001b[0m\n\u001b[1;32m-> 7323\u001b[1;33m             \u001b[0mvalidate\u001b[0m\u001b[1;33m=\u001b[0m\u001b[0mvalidate\u001b[0m\u001b[1;33m,\u001b[0m\u001b[1;33m\u001b[0m\u001b[0m\n\u001b[0m\u001b[0;32m   7324\u001b[0m         )\n\u001b[0;32m   7325\u001b[0m \u001b[1;33m\u001b[0m\u001b[0m\n",
      "\u001b[1;32m~\\AppData\\Roaming\\Python\\Python36\\site-packages\\pandas\\core\\reshape\\merge.py\u001b[0m in \u001b[0;36mmerge\u001b[1;34m(left, right, how, on, left_on, right_on, left_index, right_index, sort, suffixes, copy, indicator, validate)\u001b[0m\n\u001b[0;32m     82\u001b[0m         \u001b[0mvalidate\u001b[0m\u001b[1;33m=\u001b[0m\u001b[0mvalidate\u001b[0m\u001b[1;33m,\u001b[0m\u001b[1;33m\u001b[0m\u001b[0m\n\u001b[0;32m     83\u001b[0m     )\n\u001b[1;32m---> 84\u001b[1;33m     \u001b[1;32mreturn\u001b[0m \u001b[0mop\u001b[0m\u001b[1;33m.\u001b[0m\u001b[0mget_result\u001b[0m\u001b[1;33m(\u001b[0m\u001b[1;33m)\u001b[0m\u001b[1;33m\u001b[0m\u001b[0m\n\u001b[0m\u001b[0;32m     85\u001b[0m \u001b[1;33m\u001b[0m\u001b[0m\n\u001b[0;32m     86\u001b[0m \u001b[1;33m\u001b[0m\u001b[0m\n",
      "\u001b[1;32m~\\AppData\\Roaming\\Python\\Python36\\site-packages\\pandas\\core\\reshape\\merge.py\u001b[0m in \u001b[0;36mget_result\u001b[1;34m(self)\u001b[0m\n\u001b[0;32m    641\u001b[0m             \u001b[0mself\u001b[0m\u001b[1;33m.\u001b[0m\u001b[0mleft\u001b[0m\u001b[1;33m,\u001b[0m \u001b[0mself\u001b[0m\u001b[1;33m.\u001b[0m\u001b[0mright\u001b[0m \u001b[1;33m=\u001b[0m \u001b[0mself\u001b[0m\u001b[1;33m.\u001b[0m\u001b[0m_indicator_pre_merge\u001b[0m\u001b[1;33m(\u001b[0m\u001b[0mself\u001b[0m\u001b[1;33m.\u001b[0m\u001b[0mleft\u001b[0m\u001b[1;33m,\u001b[0m \u001b[0mself\u001b[0m\u001b[1;33m.\u001b[0m\u001b[0mright\u001b[0m\u001b[1;33m)\u001b[0m\u001b[1;33m\u001b[0m\u001b[0m\n\u001b[0;32m    642\u001b[0m \u001b[1;33m\u001b[0m\u001b[0m\n\u001b[1;32m--> 643\u001b[1;33m         \u001b[0mjoin_index\u001b[0m\u001b[1;33m,\u001b[0m \u001b[0mleft_indexer\u001b[0m\u001b[1;33m,\u001b[0m \u001b[0mright_indexer\u001b[0m \u001b[1;33m=\u001b[0m \u001b[0mself\u001b[0m\u001b[1;33m.\u001b[0m\u001b[0m_get_join_info\u001b[0m\u001b[1;33m(\u001b[0m\u001b[1;33m)\u001b[0m\u001b[1;33m\u001b[0m\u001b[0m\n\u001b[0m\u001b[0;32m    644\u001b[0m \u001b[1;33m\u001b[0m\u001b[0m\n\u001b[0;32m    645\u001b[0m         \u001b[0mldata\u001b[0m\u001b[1;33m,\u001b[0m \u001b[0mrdata\u001b[0m \u001b[1;33m=\u001b[0m \u001b[0mself\u001b[0m\u001b[1;33m.\u001b[0m\u001b[0mleft\u001b[0m\u001b[1;33m.\u001b[0m\u001b[0m_data\u001b[0m\u001b[1;33m,\u001b[0m \u001b[0mself\u001b[0m\u001b[1;33m.\u001b[0m\u001b[0mright\u001b[0m\u001b[1;33m.\u001b[0m\u001b[0m_data\u001b[0m\u001b[1;33m\u001b[0m\u001b[0m\n",
      "\u001b[1;32m~\\AppData\\Roaming\\Python\\Python36\\site-packages\\pandas\\core\\reshape\\merge.py\u001b[0m in \u001b[0;36m_get_join_info\u001b[1;34m(self)\u001b[0m\n\u001b[0;32m    858\u001b[0m             )\n\u001b[0;32m    859\u001b[0m         \u001b[1;32melse\u001b[0m\u001b[1;33m:\u001b[0m\u001b[1;33m\u001b[0m\u001b[0m\n\u001b[1;32m--> 860\u001b[1;33m             \u001b[1;33m(\u001b[0m\u001b[0mleft_indexer\u001b[0m\u001b[1;33m,\u001b[0m \u001b[0mright_indexer\u001b[0m\u001b[1;33m)\u001b[0m \u001b[1;33m=\u001b[0m \u001b[0mself\u001b[0m\u001b[1;33m.\u001b[0m\u001b[0m_get_join_indexers\u001b[0m\u001b[1;33m(\u001b[0m\u001b[1;33m)\u001b[0m\u001b[1;33m\u001b[0m\u001b[0m\n\u001b[0m\u001b[0;32m    861\u001b[0m \u001b[1;33m\u001b[0m\u001b[0m\n\u001b[0;32m    862\u001b[0m             \u001b[1;32mif\u001b[0m \u001b[0mself\u001b[0m\u001b[1;33m.\u001b[0m\u001b[0mright_index\u001b[0m\u001b[1;33m:\u001b[0m\u001b[1;33m\u001b[0m\u001b[0m\n",
      "\u001b[1;32m~\\AppData\\Roaming\\Python\\Python36\\site-packages\\pandas\\core\\reshape\\merge.py\u001b[0m in \u001b[0;36m_get_join_indexers\u001b[1;34m(self)\u001b[0m\n\u001b[0;32m    837\u001b[0m         \u001b[1;34m\"\"\" return the join indexers \"\"\"\u001b[0m\u001b[1;33m\u001b[0m\u001b[0m\n\u001b[0;32m    838\u001b[0m         return _get_join_indexers(\n\u001b[1;32m--> 839\u001b[1;33m             \u001b[0mself\u001b[0m\u001b[1;33m.\u001b[0m\u001b[0mleft_join_keys\u001b[0m\u001b[1;33m,\u001b[0m \u001b[0mself\u001b[0m\u001b[1;33m.\u001b[0m\u001b[0mright_join_keys\u001b[0m\u001b[1;33m,\u001b[0m \u001b[0msort\u001b[0m\u001b[1;33m=\u001b[0m\u001b[0mself\u001b[0m\u001b[1;33m.\u001b[0m\u001b[0msort\u001b[0m\u001b[1;33m,\u001b[0m \u001b[0mhow\u001b[0m\u001b[1;33m=\u001b[0m\u001b[0mself\u001b[0m\u001b[1;33m.\u001b[0m\u001b[0mhow\u001b[0m\u001b[1;33m\u001b[0m\u001b[0m\n\u001b[0m\u001b[0;32m    840\u001b[0m         )\n\u001b[0;32m    841\u001b[0m \u001b[1;33m\u001b[0m\u001b[0m\n",
      "\u001b[1;32m~\\AppData\\Roaming\\Python\\Python36\\site-packages\\pandas\\core\\reshape\\merge.py\u001b[0m in \u001b[0;36m_get_join_indexers\u001b[1;34m(left_keys, right_keys, sort, how, **kwargs)\u001b[0m\n\u001b[0;32m   1319\u001b[0m     \u001b[0mjoin_func\u001b[0m \u001b[1;33m=\u001b[0m \u001b[0m_join_functions\u001b[0m\u001b[1;33m[\u001b[0m\u001b[0mhow\u001b[0m\u001b[1;33m]\u001b[0m\u001b[1;33m\u001b[0m\u001b[0m\n\u001b[0;32m   1320\u001b[0m \u001b[1;33m\u001b[0m\u001b[0m\n\u001b[1;32m-> 1321\u001b[1;33m     \u001b[1;32mreturn\u001b[0m \u001b[0mjoin_func\u001b[0m\u001b[1;33m(\u001b[0m\u001b[0mlkey\u001b[0m\u001b[1;33m,\u001b[0m \u001b[0mrkey\u001b[0m\u001b[1;33m,\u001b[0m \u001b[0mcount\u001b[0m\u001b[1;33m,\u001b[0m \u001b[1;33m**\u001b[0m\u001b[0mkwargs\u001b[0m\u001b[1;33m)\u001b[0m\u001b[1;33m\u001b[0m\u001b[0m\n\u001b[0m\u001b[0;32m   1322\u001b[0m \u001b[1;33m\u001b[0m\u001b[0m\n\u001b[0;32m   1323\u001b[0m \u001b[1;33m\u001b[0m\u001b[0m\n",
      "\u001b[1;32mpandas\\_libs\\join.pyx\u001b[0m in \u001b[0;36mpandas._libs.join.inner_join\u001b[1;34m()\u001b[0m\n",
      "\u001b[1;31mMemoryError\u001b[0m: Unable to allocate array with shape (10316701836,) and data type int64"
     ]
    }
   ],
   "source": [
    "import recordlinkage\n",
    "indexer = recordlinkage.Index()\n",
    "#indexer.full()\n",
    "indexer.block(left_on=['Type', 'Drug Test', 'Driver Exam'])\n",
    "pairs = indexer.index(df_raw2, df_fake)"
   ]
  },
  {
   "cell_type": "code",
   "execution_count": 242,
   "metadata": {},
   "outputs": [],
   "source": [
    "# Comparing Step\n",
    "compare_cl = recordlinkage.Compare()\n",
    "\n",
    "for col in features:\n",
    "    compare_cl.string(col, col)\n",
    "\n",
    "rec_features = compare_cl.compute(pairs, df_raw, df_fake)"
   ]
  },
  {
   "cell_type": "code",
   "execution_count": 258,
   "metadata": {
    "scrolled": true
   },
   "outputs": [
    {
     "name": "stdout",
     "output_type": "stream",
     "text": [
      "Record Linkage >= 3 the value 37394\n",
      "Record Linkage >= 4 the value 3456\n",
      "Record Linkage >= 5 the value 181\n",
      "Record Linkage >= 6 the value 1\n",
      "Record Linkage >= 7 the value 0\n",
      "Record Linkage >= 8 the value 0\n"
     ]
    }
   ],
   "source": [
    "# Classification step\n",
    "for i in np.arange(3, len(colnames)):\n",
    "    matches = rec_features[rec_features.sum(axis=1) >= i]\n",
    "    print(\"Record Linkage >= %d the value %d\" % (i ,len(matches)))\n"
   ]
  },
  {
   "cell_type": "code",
   "execution_count": null,
   "metadata": {},
   "outputs": [],
   "source": []
  }
 ],
 "metadata": {
  "colab": {
   "collapsed_sections": [],
   "name": "GAN_Synthetic_Dataset.ipynb",
   "provenance": [],
   "version": "0.3.2"
  },
  "kernelspec": {
   "display_name": "Python 3",
   "language": "python",
   "name": "python3"
  },
  "language_info": {
   "codemirror_mode": {
    "name": "ipython",
    "version": 3
   },
   "file_extension": ".py",
   "mimetype": "text/x-python",
   "name": "python",
   "nbconvert_exporter": "python",
   "pygments_lexer": "ipython3",
   "version": "3.6.4"
  }
 },
 "nbformat": 4,
 "nbformat_minor": 1
}
